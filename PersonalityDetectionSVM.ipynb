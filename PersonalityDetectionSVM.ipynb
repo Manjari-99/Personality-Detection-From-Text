{
 "cells": [
  {
   "cell_type": "code",
   "execution_count": 1,
   "metadata": {
    "id": "7uBCBL5BFEM_"
   },
   "outputs": [],
   "source": [
    "import pandas as pd\n",
    "import numpy as np\n",
    "from sklearn import svm\n",
    "from sklearn.metrics import accuracy_score"
   ]
  },
  {
   "cell_type": "code",
   "execution_count": 2,
   "metadata": {
    "id": "fu8r4chhFVjt"
   },
   "outputs": [],
   "source": [
    "df = pd.read_csv('essays.csv', encoding=\"latin-1\")"
   ]
  },
  {
   "cell_type": "code",
   "execution_count": 3,
   "metadata": {
    "colab": {
     "base_uri": "https://localhost:8080/",
     "height": 206
    },
    "id": "i-WBMmwUFh4q",
    "outputId": "6eb6f58f-43a9-4bac-dc5f-495ec7bfd55b"
   },
   "outputs": [
    {
     "data": {
      "text/html": [
       "<div>\n",
       "<style scoped>\n",
       "    .dataframe tbody tr th:only-of-type {\n",
       "        vertical-align: middle;\n",
       "    }\n",
       "\n",
       "    .dataframe tbody tr th {\n",
       "        vertical-align: top;\n",
       "    }\n",
       "\n",
       "    .dataframe thead th {\n",
       "        text-align: right;\n",
       "    }\n",
       "</style>\n",
       "<table border=\"1\" class=\"dataframe\">\n",
       "  <thead>\n",
       "    <tr style=\"text-align: right;\">\n",
       "      <th></th>\n",
       "      <th>AUTHID</th>\n",
       "      <th>TEXT</th>\n",
       "      <th>cEXT</th>\n",
       "      <th>cNEU</th>\n",
       "      <th>cAGR</th>\n",
       "      <th>cCON</th>\n",
       "      <th>cOPN</th>\n",
       "    </tr>\n",
       "  </thead>\n",
       "  <tbody>\n",
       "    <tr>\n",
       "      <th>0</th>\n",
       "      <td>1997_504851.txt</td>\n",
       "      <td>Well, right now I just woke up from a mid-day ...</td>\n",
       "      <td>n</td>\n",
       "      <td>y</td>\n",
       "      <td>y</td>\n",
       "      <td>n</td>\n",
       "      <td>y</td>\n",
       "    </tr>\n",
       "    <tr>\n",
       "      <th>1</th>\n",
       "      <td>1997_605191.txt</td>\n",
       "      <td>Well, here we go with the stream of consciousn...</td>\n",
       "      <td>n</td>\n",
       "      <td>n</td>\n",
       "      <td>y</td>\n",
       "      <td>n</td>\n",
       "      <td>n</td>\n",
       "    </tr>\n",
       "    <tr>\n",
       "      <th>2</th>\n",
       "      <td>1997_687252.txt</td>\n",
       "      <td>An open keyboard and buttons to push. The thin...</td>\n",
       "      <td>n</td>\n",
       "      <td>y</td>\n",
       "      <td>n</td>\n",
       "      <td>y</td>\n",
       "      <td>y</td>\n",
       "    </tr>\n",
       "    <tr>\n",
       "      <th>3</th>\n",
       "      <td>1997_568848.txt</td>\n",
       "      <td>I can't believe it!  It's really happening!  M...</td>\n",
       "      <td>y</td>\n",
       "      <td>n</td>\n",
       "      <td>y</td>\n",
       "      <td>y</td>\n",
       "      <td>n</td>\n",
       "    </tr>\n",
       "    <tr>\n",
       "      <th>4</th>\n",
       "      <td>1997_688160.txt</td>\n",
       "      <td>Well, here I go with the good old stream of co...</td>\n",
       "      <td>y</td>\n",
       "      <td>n</td>\n",
       "      <td>y</td>\n",
       "      <td>n</td>\n",
       "      <td>y</td>\n",
       "    </tr>\n",
       "  </tbody>\n",
       "</table>\n",
       "</div>"
      ],
      "text/plain": [
       "            AUTHID                                               TEXT cEXT  \\\n",
       "0  1997_504851.txt  Well, right now I just woke up from a mid-day ...    n   \n",
       "1  1997_605191.txt  Well, here we go with the stream of consciousn...    n   \n",
       "2  1997_687252.txt  An open keyboard and buttons to push. The thin...    n   \n",
       "3  1997_568848.txt  I can't believe it!  It's really happening!  M...    y   \n",
       "4  1997_688160.txt  Well, here I go with the good old stream of co...    y   \n",
       "\n",
       "  cNEU cAGR cCON cOPN  \n",
       "0    y    y    n    y  \n",
       "1    n    y    n    n  \n",
       "2    y    n    y    y  \n",
       "3    n    y    y    n  \n",
       "4    n    y    n    y  "
      ]
     },
     "execution_count": 3,
     "metadata": {},
     "output_type": "execute_result"
    }
   ],
   "source": [
    "df.head(5)"
   ]
  },
  {
   "cell_type": "code",
   "execution_count": 4,
   "metadata": {
    "id": "pBIsJ-fOFlRM"
   },
   "outputs": [],
   "source": [
    "df=df.iloc[:,1:]"
   ]
  },
  {
   "cell_type": "code",
   "execution_count": 5,
   "metadata": {
    "colab": {
     "base_uri": "https://localhost:8080/"
    },
    "id": "HyhmraP-F1lN",
    "outputId": "347c46d1-a9f6-4036-fa20-1fe8edb93ac2"
   },
   "outputs": [
    {
     "data": {
      "text/plain": [
       "TEXT    0\n",
       "cEXT    0\n",
       "cNEU    0\n",
       "cAGR    0\n",
       "cCON    0\n",
       "cOPN    0\n",
       "dtype: int64"
      ]
     },
     "execution_count": 5,
     "metadata": {},
     "output_type": "execute_result"
    }
   ],
   "source": [
    "df.isnull().sum()\n",
    "#no null values"
   ]
  },
  {
   "cell_type": "code",
   "execution_count": 6,
   "metadata": {
    "colab": {
     "base_uri": "https://localhost:8080/"
    },
    "id": "YGkzhGx8F5eU",
    "outputId": "924c00ab-7fda-4582-d8c4-06051ffdad8f"
   },
   "outputs": [
    {
     "data": {
      "text/plain": [
       "0"
      ]
     },
     "execution_count": 6,
     "metadata": {},
     "output_type": "execute_result"
    }
   ],
   "source": [
    "df.duplicated().sum()\n",
    "#no duplicate values"
   ]
  },
  {
   "cell_type": "code",
   "execution_count": 7,
   "metadata": {
    "colab": {
     "base_uri": "https://localhost:8080/",
     "height": 206
    },
    "id": "VZvrBLe-GLDS",
    "outputId": "783a3413-68e2-43fd-bf70-b51096c1acea"
   },
   "outputs": [
    {
     "data": {
      "text/html": [
       "<div>\n",
       "<style scoped>\n",
       "    .dataframe tbody tr th:only-of-type {\n",
       "        vertical-align: middle;\n",
       "    }\n",
       "\n",
       "    .dataframe tbody tr th {\n",
       "        vertical-align: top;\n",
       "    }\n",
       "\n",
       "    .dataframe thead th {\n",
       "        text-align: right;\n",
       "    }\n",
       "</style>\n",
       "<table border=\"1\" class=\"dataframe\">\n",
       "  <thead>\n",
       "    <tr style=\"text-align: right;\">\n",
       "      <th></th>\n",
       "      <th>text</th>\n",
       "      <th>ext</th>\n",
       "      <th>neu</th>\n",
       "      <th>agr</th>\n",
       "      <th>con</th>\n",
       "      <th>opn</th>\n",
       "    </tr>\n",
       "  </thead>\n",
       "  <tbody>\n",
       "    <tr>\n",
       "      <th>1603</th>\n",
       "      <td>I just came back from the Texas Crew Meet...</td>\n",
       "      <td>n</td>\n",
       "      <td>n</td>\n",
       "      <td>y</td>\n",
       "      <td>y</td>\n",
       "      <td>y</td>\n",
       "    </tr>\n",
       "    <tr>\n",
       "      <th>1019</th>\n",
       "      <td>I am a bit in wonderous as to what is supposed...</td>\n",
       "      <td>n</td>\n",
       "      <td>n</td>\n",
       "      <td>n</td>\n",
       "      <td>n</td>\n",
       "      <td>y</td>\n",
       "    </tr>\n",
       "    <tr>\n",
       "      <th>1035</th>\n",
       "      <td>I am really tired and bored right now. I am a ...</td>\n",
       "      <td>y</td>\n",
       "      <td>y</td>\n",
       "      <td>n</td>\n",
       "      <td>n</td>\n",
       "      <td>n</td>\n",
       "    </tr>\n",
       "    <tr>\n",
       "      <th>1433</th>\n",
       "      <td>The first sensation I feel while beginning wri...</td>\n",
       "      <td>n</td>\n",
       "      <td>n</td>\n",
       "      <td>n</td>\n",
       "      <td>n</td>\n",
       "      <td>y</td>\n",
       "    </tr>\n",
       "    <tr>\n",
       "      <th>1029</th>\n",
       "      <td>I can't ever seem to remember my passwords. An...</td>\n",
       "      <td>n</td>\n",
       "      <td>y</td>\n",
       "      <td>n</td>\n",
       "      <td>n</td>\n",
       "      <td>y</td>\n",
       "    </tr>\n",
       "  </tbody>\n",
       "</table>\n",
       "</div>"
      ],
      "text/plain": [
       "                                                   text ext neu agr con opn\n",
       "1603       I just came back from the Texas Crew Meet...   n   n   y   y   y\n",
       "1019  I am a bit in wonderous as to what is supposed...   n   n   n   n   y\n",
       "1035  I am really tired and bored right now. I am a ...   y   y   n   n   n\n",
       "1433  The first sensation I feel while beginning wri...   n   n   n   n   y\n",
       "1029  I can't ever seem to remember my passwords. An...   n   y   n   n   y"
      ]
     },
     "execution_count": 7,
     "metadata": {},
     "output_type": "execute_result"
    }
   ],
   "source": [
    "#rename to convinient names\n",
    "df.rename(columns={'TEXT':'text','cEXT':'ext','cNEU':'neu','cAGR':'agr','cCON':'con','cOPN':'opn'},inplace=True)\n",
    "df.sample(5)"
   ]
  },
  {
   "cell_type": "code",
   "execution_count": 8,
   "metadata": {},
   "outputs": [],
   "source": [
    "def change(x):\n",
    "    if x=='y':\n",
    "        return 1\n",
    "    else:\n",
    "        return 0"
   ]
  },
  {
   "cell_type": "code",
   "execution_count": 9,
   "metadata": {
    "id": "HOgP65SkGWXR"
   },
   "outputs": [],
   "source": [
    "#change to numerical values\n",
    "df['ext'] = df['ext'].apply(change)\n",
    "df['neu'] = df['neu'].apply(change)\n",
    "df['agr'] = df['agr'].apply(change)\n",
    "df['con'] = df['con'].apply(change)\n",
    "df['opn'] = df['opn'].apply(change)"
   ]
  },
  {
   "cell_type": "code",
   "execution_count": 10,
   "metadata": {},
   "outputs": [
    {
     "data": {
      "text/html": [
       "<div>\n",
       "<style scoped>\n",
       "    .dataframe tbody tr th:only-of-type {\n",
       "        vertical-align: middle;\n",
       "    }\n",
       "\n",
       "    .dataframe tbody tr th {\n",
       "        vertical-align: top;\n",
       "    }\n",
       "\n",
       "    .dataframe thead th {\n",
       "        text-align: right;\n",
       "    }\n",
       "</style>\n",
       "<table border=\"1\" class=\"dataframe\">\n",
       "  <thead>\n",
       "    <tr style=\"text-align: right;\">\n",
       "      <th></th>\n",
       "      <th>text</th>\n",
       "      <th>ext</th>\n",
       "      <th>neu</th>\n",
       "      <th>agr</th>\n",
       "      <th>con</th>\n",
       "      <th>opn</th>\n",
       "    </tr>\n",
       "  </thead>\n",
       "  <tbody>\n",
       "    <tr>\n",
       "      <th>0</th>\n",
       "      <td>Well, right now I just woke up from a mid-day ...</td>\n",
       "      <td>0</td>\n",
       "      <td>1</td>\n",
       "      <td>1</td>\n",
       "      <td>0</td>\n",
       "      <td>1</td>\n",
       "    </tr>\n",
       "    <tr>\n",
       "      <th>1</th>\n",
       "      <td>Well, here we go with the stream of consciousn...</td>\n",
       "      <td>0</td>\n",
       "      <td>0</td>\n",
       "      <td>1</td>\n",
       "      <td>0</td>\n",
       "      <td>0</td>\n",
       "    </tr>\n",
       "    <tr>\n",
       "      <th>2</th>\n",
       "      <td>An open keyboard and buttons to push. The thin...</td>\n",
       "      <td>0</td>\n",
       "      <td>1</td>\n",
       "      <td>0</td>\n",
       "      <td>1</td>\n",
       "      <td>1</td>\n",
       "    </tr>\n",
       "    <tr>\n",
       "      <th>3</th>\n",
       "      <td>I can't believe it!  It's really happening!  M...</td>\n",
       "      <td>1</td>\n",
       "      <td>0</td>\n",
       "      <td>1</td>\n",
       "      <td>1</td>\n",
       "      <td>0</td>\n",
       "    </tr>\n",
       "    <tr>\n",
       "      <th>4</th>\n",
       "      <td>Well, here I go with the good old stream of co...</td>\n",
       "      <td>1</td>\n",
       "      <td>0</td>\n",
       "      <td>1</td>\n",
       "      <td>0</td>\n",
       "      <td>1</td>\n",
       "    </tr>\n",
       "  </tbody>\n",
       "</table>\n",
       "</div>"
      ],
      "text/plain": [
       "                                                text  ext  neu  agr  con  opn\n",
       "0  Well, right now I just woke up from a mid-day ...    0    1    1    0    1\n",
       "1  Well, here we go with the stream of consciousn...    0    0    1    0    0\n",
       "2  An open keyboard and buttons to push. The thin...    0    1    0    1    1\n",
       "3  I can't believe it!  It's really happening!  M...    1    0    1    1    0\n",
       "4  Well, here I go with the good old stream of co...    1    0    1    0    1"
      ]
     },
     "execution_count": 10,
     "metadata": {},
     "output_type": "execute_result"
    }
   ],
   "source": [
    "df.head()"
   ]
  },
  {
   "cell_type": "code",
   "execution_count": 11,
   "metadata": {},
   "outputs": [
    {
     "data": {
      "text/html": [
       "<div>\n",
       "<style scoped>\n",
       "    .dataframe tbody tr th:only-of-type {\n",
       "        vertical-align: middle;\n",
       "    }\n",
       "\n",
       "    .dataframe tbody tr th {\n",
       "        vertical-align: top;\n",
       "    }\n",
       "\n",
       "    .dataframe thead th {\n",
       "        text-align: right;\n",
       "    }\n",
       "</style>\n",
       "<table border=\"1\" class=\"dataframe\">\n",
       "  <thead>\n",
       "    <tr style=\"text-align: right;\">\n",
       "      <th></th>\n",
       "      <th>text</th>\n",
       "      <th>ext</th>\n",
       "      <th>neu</th>\n",
       "      <th>agr</th>\n",
       "      <th>con</th>\n",
       "      <th>opn</th>\n",
       "    </tr>\n",
       "  </thead>\n",
       "  <tbody>\n",
       "    <tr>\n",
       "      <th>767</th>\n",
       "      <td>There are mostly worries and fear traveling th...</td>\n",
       "      <td>0</td>\n",
       "      <td>0</td>\n",
       "      <td>0</td>\n",
       "      <td>0</td>\n",
       "      <td>0</td>\n",
       "    </tr>\n",
       "    <tr>\n",
       "      <th>122</th>\n",
       "      <td>O. K. Here I am in the computer lab in my dorm...</td>\n",
       "      <td>1</td>\n",
       "      <td>1</td>\n",
       "      <td>1</td>\n",
       "      <td>1</td>\n",
       "      <td>0</td>\n",
       "    </tr>\n",
       "    <tr>\n",
       "      <th>155</th>\n",
       "      <td>Trying to track my thoughts. That's weird beca...</td>\n",
       "      <td>0</td>\n",
       "      <td>1</td>\n",
       "      <td>0</td>\n",
       "      <td>1</td>\n",
       "      <td>0</td>\n",
       "    </tr>\n",
       "    <tr>\n",
       "      <th>1495</th>\n",
       "      <td>This assignment seemed so easy at first, but n...</td>\n",
       "      <td>0</td>\n",
       "      <td>1</td>\n",
       "      <td>1</td>\n",
       "      <td>1</td>\n",
       "      <td>0</td>\n",
       "    </tr>\n",
       "    <tr>\n",
       "      <th>2280</th>\n",
       "      <td>Yeah so I am so stressed right now and I am wi...</td>\n",
       "      <td>1</td>\n",
       "      <td>1</td>\n",
       "      <td>0</td>\n",
       "      <td>0</td>\n",
       "      <td>0</td>\n",
       "    </tr>\n",
       "    <tr>\n",
       "      <th>1422</th>\n",
       "      <td>I guess that I should start by telling you whe...</td>\n",
       "      <td>1</td>\n",
       "      <td>0</td>\n",
       "      <td>0</td>\n",
       "      <td>1</td>\n",
       "      <td>1</td>\n",
       "    </tr>\n",
       "    <tr>\n",
       "      <th>1209</th>\n",
       "      <td>I am so overwhelmed that I don't even know wha...</td>\n",
       "      <td>1</td>\n",
       "      <td>1</td>\n",
       "      <td>0</td>\n",
       "      <td>0</td>\n",
       "      <td>0</td>\n",
       "    </tr>\n",
       "    <tr>\n",
       "      <th>1197</th>\n",
       "      <td>Today has been a pretty good day, I guess. It'...</td>\n",
       "      <td>0</td>\n",
       "      <td>1</td>\n",
       "      <td>1</td>\n",
       "      <td>1</td>\n",
       "      <td>0</td>\n",
       "    </tr>\n",
       "    <tr>\n",
       "      <th>597</th>\n",
       "      <td>I think about my mother, my ex-boyfriend in Ho...</td>\n",
       "      <td>0</td>\n",
       "      <td>1</td>\n",
       "      <td>0</td>\n",
       "      <td>0</td>\n",
       "      <td>0</td>\n",
       "    </tr>\n",
       "    <tr>\n",
       "      <th>1220</th>\n",
       "      <td>I wondering about what I should write here but...</td>\n",
       "      <td>0</td>\n",
       "      <td>1</td>\n",
       "      <td>0</td>\n",
       "      <td>0</td>\n",
       "      <td>0</td>\n",
       "    </tr>\n",
       "    <tr>\n",
       "      <th>669</th>\n",
       "      <td>Don't want to do this. This is stupid tweny mi...</td>\n",
       "      <td>1</td>\n",
       "      <td>1</td>\n",
       "      <td>0</td>\n",
       "      <td>0</td>\n",
       "      <td>1</td>\n",
       "    </tr>\n",
       "    <tr>\n",
       "      <th>28</th>\n",
       "      <td>Okay, Im not so sure where to begin. only tha...</td>\n",
       "      <td>1</td>\n",
       "      <td>1</td>\n",
       "      <td>0</td>\n",
       "      <td>1</td>\n",
       "      <td>1</td>\n",
       "    </tr>\n",
       "    <tr>\n",
       "      <th>1421</th>\n",
       "      <td>My mind is wandering back and forth between wh...</td>\n",
       "      <td>0</td>\n",
       "      <td>1</td>\n",
       "      <td>0</td>\n",
       "      <td>0</td>\n",
       "      <td>0</td>\n",
       "    </tr>\n",
       "    <tr>\n",
       "      <th>809</th>\n",
       "      <td>I am in the library trying to get my work done...</td>\n",
       "      <td>1</td>\n",
       "      <td>0</td>\n",
       "      <td>0</td>\n",
       "      <td>1</td>\n",
       "      <td>0</td>\n",
       "    </tr>\n",
       "    <tr>\n",
       "      <th>478</th>\n",
       "      <td>I am thinking about my roommate who got the wr...</td>\n",
       "      <td>1</td>\n",
       "      <td>0</td>\n",
       "      <td>1</td>\n",
       "      <td>0</td>\n",
       "      <td>1</td>\n",
       "    </tr>\n",
       "    <tr>\n",
       "      <th>1244</th>\n",
       "      <td>I am tired now. I don't know what I should tal...</td>\n",
       "      <td>1</td>\n",
       "      <td>0</td>\n",
       "      <td>1</td>\n",
       "      <td>0</td>\n",
       "      <td>1</td>\n",
       "    </tr>\n",
       "    <tr>\n",
       "      <th>2387</th>\n",
       "      <td>I am at a study hall room at the time won...</td>\n",
       "      <td>0</td>\n",
       "      <td>1</td>\n",
       "      <td>0</td>\n",
       "      <td>0</td>\n",
       "      <td>1</td>\n",
       "    </tr>\n",
       "    <tr>\n",
       "      <th>437</th>\n",
       "      <td>In the past I have always had a set of instruc...</td>\n",
       "      <td>0</td>\n",
       "      <td>1</td>\n",
       "      <td>0</td>\n",
       "      <td>1</td>\n",
       "      <td>0</td>\n",
       "    </tr>\n",
       "    <tr>\n",
       "      <th>1947</th>\n",
       "      <td>I guess I should begin by saying I'm pretty ti...</td>\n",
       "      <td>0</td>\n",
       "      <td>1</td>\n",
       "      <td>1</td>\n",
       "      <td>0</td>\n",
       "      <td>0</td>\n",
       "    </tr>\n",
       "    <tr>\n",
       "      <th>1158</th>\n",
       "      <td>its hard to think what comes in your head natu...</td>\n",
       "      <td>0</td>\n",
       "      <td>1</td>\n",
       "      <td>0</td>\n",
       "      <td>1</td>\n",
       "      <td>1</td>\n",
       "    </tr>\n",
       "  </tbody>\n",
       "</table>\n",
       "</div>"
      ],
      "text/plain": [
       "                                                   text  ext  neu  agr  con  \\\n",
       "767   There are mostly worries and fear traveling th...    0    0    0    0   \n",
       "122   O. K. Here I am in the computer lab in my dorm...    1    1    1    1   \n",
       "155   Trying to track my thoughts. That's weird beca...    0    1    0    1   \n",
       "1495  This assignment seemed so easy at first, but n...    0    1    1    1   \n",
       "2280  Yeah so I am so stressed right now and I am wi...    1    1    0    0   \n",
       "1422  I guess that I should start by telling you whe...    1    0    0    1   \n",
       "1209  I am so overwhelmed that I don't even know wha...    1    1    0    0   \n",
       "1197  Today has been a pretty good day, I guess. It'...    0    1    1    1   \n",
       "597   I think about my mother, my ex-boyfriend in Ho...    0    1    0    0   \n",
       "1220  I wondering about what I should write here but...    0    1    0    0   \n",
       "669   Don't want to do this. This is stupid tweny mi...    1    1    0    0   \n",
       "28    Okay, Im not so sure where to begin. only tha...    1    1    0    1   \n",
       "1421  My mind is wandering back and forth between wh...    0    1    0    0   \n",
       "809   I am in the library trying to get my work done...    1    0    0    1   \n",
       "478   I am thinking about my roommate who got the wr...    1    0    1    0   \n",
       "1244  I am tired now. I don't know what I should tal...    1    0    1    0   \n",
       "2387       I am at a study hall room at the time won...    0    1    0    0   \n",
       "437   In the past I have always had a set of instruc...    0    1    0    1   \n",
       "1947  I guess I should begin by saying I'm pretty ti...    0    1    1    0   \n",
       "1158  its hard to think what comes in your head natu...    0    1    0    1   \n",
       "\n",
       "      opn  \n",
       "767     0  \n",
       "122     0  \n",
       "155     0  \n",
       "1495    0  \n",
       "2280    0  \n",
       "1422    1  \n",
       "1209    0  \n",
       "1197    0  \n",
       "597     0  \n",
       "1220    0  \n",
       "669     1  \n",
       "28      1  \n",
       "1421    0  \n",
       "809     0  \n",
       "478     1  \n",
       "1244    1  \n",
       "2387    1  \n",
       "437     0  \n",
       "1947    0  \n",
       "1158    1  "
      ]
     },
     "execution_count": 11,
     "metadata": {},
     "output_type": "execute_result"
    }
   ],
   "source": [
    "df.sample(20)"
   ]
  },
  {
   "cell_type": "code",
   "execution_count": 12,
   "metadata": {
    "id": "D8-cJFqTGt-v"
   },
   "outputs": [],
   "source": [
    "#text preprocessing\n",
    "#small letters\n",
    "#remove special characters\n",
    "#remove stopwords\n",
    "#convert to vector"
   ]
  },
  {
   "cell_type": "code",
   "execution_count": 13,
   "metadata": {
    "colab": {
     "base_uri": "https://localhost:8080/",
     "height": 206
    },
    "id": "xd9CSQ8JGyKl",
    "outputId": "84d84c1a-ed4a-4413-cbdf-370a85a624e3"
   },
   "outputs": [
    {
     "data": {
      "text/html": [
       "<div>\n",
       "<style scoped>\n",
       "    .dataframe tbody tr th:only-of-type {\n",
       "        vertical-align: middle;\n",
       "    }\n",
       "\n",
       "    .dataframe tbody tr th {\n",
       "        vertical-align: top;\n",
       "    }\n",
       "\n",
       "    .dataframe thead th {\n",
       "        text-align: right;\n",
       "    }\n",
       "</style>\n",
       "<table border=\"1\" class=\"dataframe\">\n",
       "  <thead>\n",
       "    <tr style=\"text-align: right;\">\n",
       "      <th></th>\n",
       "      <th>text</th>\n",
       "      <th>ext</th>\n",
       "      <th>neu</th>\n",
       "      <th>agr</th>\n",
       "      <th>con</th>\n",
       "      <th>opn</th>\n",
       "    </tr>\n",
       "  </thead>\n",
       "  <tbody>\n",
       "    <tr>\n",
       "      <th>2326</th>\n",
       "      <td>okay dokey here we go. just thought i would ge...</td>\n",
       "      <td>0</td>\n",
       "      <td>1</td>\n",
       "      <td>0</td>\n",
       "      <td>1</td>\n",
       "      <td>0</td>\n",
       "    </tr>\n",
       "    <tr>\n",
       "      <th>928</th>\n",
       "      <td>ok so now i'm writing i'm doing this so i can ...</td>\n",
       "      <td>0</td>\n",
       "      <td>0</td>\n",
       "      <td>1</td>\n",
       "      <td>0</td>\n",
       "      <td>1</td>\n",
       "    </tr>\n",
       "    <tr>\n",
       "      <th>736</th>\n",
       "      <td>twenty minutes seems like a very long time to ...</td>\n",
       "      <td>1</td>\n",
       "      <td>1</td>\n",
       "      <td>0</td>\n",
       "      <td>0</td>\n",
       "      <td>0</td>\n",
       "    </tr>\n",
       "    <tr>\n",
       "      <th>989</th>\n",
       "      <td>\"antisocial\"--that is what it said in large le...</td>\n",
       "      <td>0</td>\n",
       "      <td>1</td>\n",
       "      <td>1</td>\n",
       "      <td>0</td>\n",
       "      <td>1</td>\n",
       "    </tr>\n",
       "    <tr>\n",
       "      <th>1295</th>\n",
       "      <td>stream of conscience. just typing whatever com...</td>\n",
       "      <td>1</td>\n",
       "      <td>1</td>\n",
       "      <td>1</td>\n",
       "      <td>1</td>\n",
       "      <td>1</td>\n",
       "    </tr>\n",
       "  </tbody>\n",
       "</table>\n",
       "</div>"
      ],
      "text/plain": [
       "                                                   text  ext  neu  agr  con  \\\n",
       "2326  okay dokey here we go. just thought i would ge...    0    1    0    1   \n",
       "928   ok so now i'm writing i'm doing this so i can ...    0    0    1    0   \n",
       "736   twenty minutes seems like a very long time to ...    1    1    0    0   \n",
       "989   \"antisocial\"--that is what it said in large le...    0    1    1    0   \n",
       "1295  stream of conscience. just typing whatever com...    1    1    1    1   \n",
       "\n",
       "      opn  \n",
       "2326    0  \n",
       "928     1  \n",
       "736     0  \n",
       "989     1  \n",
       "1295    1  "
      ]
     },
     "execution_count": 13,
     "metadata": {},
     "output_type": "execute_result"
    }
   ],
   "source": [
    "df['text'] = df['text'].apply( lambda x : x.lower())\n",
    "df.sample(5)"
   ]
  },
  {
   "cell_type": "code",
   "execution_count": 14,
   "metadata": {
    "id": "clbFjnQCG1lI"
   },
   "outputs": [],
   "source": [
    "def remove_special_chars(text):\n",
    "    result = \"\"\n",
    "    for i in text:\n",
    "        if i.isalnum() or i ==' ':\n",
    "            result = result + i\n",
    "        else:\n",
    "            result = result + \"\"\n",
    "    return result.strip()"
   ]
  },
  {
   "cell_type": "code",
   "execution_count": 15,
   "metadata": {
    "colab": {
     "base_uri": "https://localhost:8080/"
    },
    "id": "l08BcwVPG5Vp",
    "outputId": "50a46660-c24e-4378-9ad6-459deed83ec0"
   },
   "outputs": [
    {
     "data": {
      "text/plain": [
       "0       well right now i just woke up from a midday na...\n",
       "1       well here we go with the stream of consciousne...\n",
       "2       an open keyboard and buttons to push the thing...\n",
       "3       i cant believe it  its really happening  my pu...\n",
       "4       well here i go with the good old stream of con...\n",
       "                              ...                        \n",
       "2462    im home wanted to go to bed but remembered tha...\n",
       "2463    stream of consiousnesssskdj how do you spell t...\n",
       "2464    it is wednesday december 8th and a lot has bee...\n",
       "2465    man this week has been hellish anyways now its...\n",
       "2466    i have just gotten off the phone with brady im...\n",
       "Name: text, Length: 2467, dtype: object"
      ]
     },
     "execution_count": 15,
     "metadata": {},
     "output_type": "execute_result"
    }
   ],
   "source": [
    "df['text'] = df['text'].apply(remove_special_chars)\n",
    "df['text']"
   ]
  },
  {
   "cell_type": "code",
   "execution_count": 16,
   "metadata": {
    "colab": {
     "base_uri": "https://localhost:8080/"
    },
    "id": "sORL26BIG7dF",
    "outputId": "995d9b1e-7e43-4d21-fcba-eeaafbc21dce"
   },
   "outputs": [
    {
     "data": {
      "text/plain": [
       "(2467, 10000)"
      ]
     },
     "execution_count": 16,
     "metadata": {},
     "output_type": "execute_result"
    }
   ],
   "source": [
    "from sklearn.feature_extraction.text import CountVectorizer\n",
    "cv = CountVectorizer(stop_words='english',max_features = 10000)\n",
    "X = cv.fit_transform(df['text']).toarray()\n",
    "X.shape"
   ]
  },
  {
   "cell_type": "code",
   "execution_count": 17,
   "metadata": {
    "id": "b1t9vEYXHrd8"
   },
   "outputs": [],
   "source": [
    "ext = df['ext'].values.astype('int')\n",
    "neu = df['neu'].values.astype('int')\n",
    "agr = df['agr'].values.astype('int')\n",
    "con = df['con'].values.astype('int')\n",
    "opn = df['opn'].values.astype('int')"
   ]
  },
  {
   "cell_type": "code",
   "execution_count": 18,
   "metadata": {
    "id": "5lKUY6UDH0k2"
   },
   "outputs": [],
   "source": [
    "ext = df['ext']\n",
    "neu=df['neu']\n",
    "agr = df['agr']\n",
    "con=df['con']\n",
    "opn=df['opn']"
   ]
  },
  {
   "cell_type": "code",
   "execution_count": 19,
   "metadata": {
    "id": "91pRpIUTH2ul"
   },
   "outputs": [],
   "source": [
    "from sklearn.model_selection import train_test_split\n",
    "X_train,X_test,ext_train,ext_test = train_test_split(X,ext,test_size=0.3)\n",
    "X1_train,X1_test,neu_train,neu_test = train_test_split(X,neu,test_size=0.3)\n",
    "X2_train,X2_test,agr_train,agr_test = train_test_split(X,agr,test_size=0.3)\n",
    "X3_train,X3_test,con_train,con_test = train_test_split(X,con,test_size=0.3)\n",
    "X4_train,X4_test,opn_train,opn_test = train_test_split(X,opn,test_size=0.3)"
   ]
  },
  {
   "cell_type": "code",
   "execution_count": 20,
   "metadata": {
    "colab": {
     "base_uri": "https://localhost:8080/"
    },
    "id": "fiFt2iRRH41U",
    "outputId": "19bbefcd-9124-4aac-eb32-77cf8a9167d9"
   },
   "outputs": [
    {
     "data": {
      "text/plain": [
       "0.5492577597840755"
      ]
     },
     "execution_count": 20,
     "metadata": {},
     "output_type": "execute_result"
    }
   ],
   "source": [
    "ext_svm = svm.LinearSVC()\n",
    "ext_svm.fit(X_train,ext_train)\n",
    "ext_pred = ext_svm.predict(X_test)\n",
    "accuracy_score(ext_test,ext_pred)"
   ]
  },
  {
   "cell_type": "code",
   "execution_count": 21,
   "metadata": {
    "colab": {
     "base_uri": "https://localhost:8080/"
    },
    "id": "EwXwjD33IAec",
    "outputId": "dbe3f8b2-1469-4165-e058-b5c13b6004a0"
   },
   "outputs": [
    {
     "data": {
      "text/plain": [
       "0.5182186234817814"
      ]
     },
     "execution_count": 21,
     "metadata": {},
     "output_type": "execute_result"
    }
   ],
   "source": [
    "neu_svm = svm.LinearSVC()\n",
    "neu_svm.fit(X1_train,neu_train)\n",
    "neu_pred = neu_svm.predict(X1_test)\n",
    "accuracy_score(neu_test,neu_pred)"
   ]
  },
  {
   "cell_type": "code",
   "execution_count": 22,
   "metadata": {
    "colab": {
     "base_uri": "https://localhost:8080/"
    },
    "id": "pAmP3TZAIDVT",
    "outputId": "267a60c2-3efd-4ab7-8b5a-9835c20abe69"
   },
   "outputs": [
    {
     "data": {
      "text/plain": [
       "0.5398110661268556"
      ]
     },
     "execution_count": 22,
     "metadata": {},
     "output_type": "execute_result"
    }
   ],
   "source": [
    "agr_svm = svm.LinearSVC()\n",
    "agr_svm.fit(X2_train,agr_train)\n",
    "agr_pred = agr_svm.predict(X2_test)\n",
    "accuracy_score(agr_test,agr_pred)"
   ]
  },
  {
   "cell_type": "code",
   "execution_count": 23,
   "metadata": {
    "colab": {
     "base_uri": "https://localhost:8080/"
    },
    "id": "Kcsn5GmiIG95",
    "outputId": "de57a07d-3159-4f76-8127-a37c569dc4bc"
   },
   "outputs": [
    {
     "data": {
      "text/plain": [
       "0.5479082321187584"
      ]
     },
     "execution_count": 23,
     "metadata": {},
     "output_type": "execute_result"
    }
   ],
   "source": [
    "con_svm = svm.LinearSVC()\n",
    "con_svm.fit(X3_train,con_train)\n",
    "con_pred = con_svm.predict(X3_test)\n",
    "accuracy_score(con_test,con_pred)"
   ]
  },
  {
   "cell_type": "code",
   "execution_count": 24,
   "metadata": {
    "colab": {
     "base_uri": "https://localhost:8080/"
    },
    "id": "3CRI2ko8IJpv",
    "outputId": "199c1263-44b2-40c9-9a97-4802657c260e"
   },
   "outputs": [
    {
     "data": {
      "text/plain": [
       "0.5951417004048583"
      ]
     },
     "execution_count": 24,
     "metadata": {},
     "output_type": "execute_result"
    }
   ],
   "source": [
    "opn_svm = svm.LinearSVC()\n",
    "opn_svm.fit(X4_train,opn_train)\n",
    "opn_pred = opn_svm.predict(X4_test)\n",
    "accuracy_score(opn_test,opn_pred)"
   ]
  },
  {
   "cell_type": "code",
   "execution_count": 25,
   "metadata": {
    "id": "qdKViztzIMYY"
   },
   "outputs": [],
   "source": [
    "#4\n",
    "text = \"Many wishes of my life haven't been fulfilled. This makes me irritated. I feel like my life has been filled with diasspointments.\"\n",
    "text = text.lower()\n",
    "text = remove_special_chars(text)\n",
    "val = cv.transform([text])\n",
    "a = ext_svm.predict(val)\n",
    "b = neu_svm.predict(val)\n",
    "c = agr_svm.predict(val)\n",
    "d = con_svm.predict(val)\n",
    "e = opn_svm.predict(val)"
   ]
  },
  {
   "cell_type": "code",
   "execution_count": 26,
   "metadata": {
    "colab": {
     "base_uri": "https://localhost:8080/"
    },
    "id": "M4yZeNgtIQBM",
    "outputId": "136cdcc2-1007-41ce-a2e9-bb62ac354d1e"
   },
   "outputs": [
    {
     "name": "stdout",
     "output_type": "stream",
     "text": [
      "Extroversion : Yes\n",
      "Neuroticism : No\n",
      "Agreeableness : Yes\n",
      "Conscientiousness : No\n",
      "Openness : Yes\n"
     ]
    }
   ],
   "source": [
    "qualities = ['Extroversion','Neuroticism','Agreeableness','Conscientiousness','Openness']\n",
    "values = [a,b,c,d,e]\n",
    "for i in range(5):\n",
    "  if(values[i][0]==0):\n",
    "    print(qualities[i],': No')\n",
    "  else:\n",
    "    print(qualities[i],': Yes')"
   ]
  },
  {
   "cell_type": "code",
   "execution_count": null,
   "metadata": {
    "id": "WFofxeVyIWIo"
   },
   "outputs": [],
   "source": []
  },
  {
   "cell_type": "code",
   "execution_count": null,
   "metadata": {},
   "outputs": [],
   "source": []
  },
  {
   "cell_type": "code",
   "execution_count": null,
   "metadata": {},
   "outputs": [],
   "source": []
  }
 ],
 "metadata": {
  "colab": {
   "collapsed_sections": [],
   "name": "PersonalityDetectionSVM.ipynb",
   "provenance": []
  },
  "kernelspec": {
   "display_name": "Python 3",
   "language": "python",
   "name": "python3"
  },
  "language_info": {
   "codemirror_mode": {
    "name": "ipython",
    "version": 3
   },
   "file_extension": ".py",
   "mimetype": "text/x-python",
   "name": "python",
   "nbconvert_exporter": "python",
   "pygments_lexer": "ipython3",
   "version": "3.8.3"
  }
 },
 "nbformat": 4,
 "nbformat_minor": 1
}
