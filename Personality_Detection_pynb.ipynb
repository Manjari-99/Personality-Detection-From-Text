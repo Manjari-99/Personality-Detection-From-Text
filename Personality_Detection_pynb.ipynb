{
 "cells": [
  {
   "cell_type": "code",
   "execution_count": 2,
   "metadata": {
    "_cell_guid": "b1076dfc-b9ad-4769-8c92-a6c4dae69d19",
    "_uuid": "8f2839f25d086af736a60e9eeb907d3b93b6e0e5",
    "execution": {
     "iopub.execute_input": "2021-11-27T07:31:24.463020Z",
     "iopub.status.busy": "2021-11-27T07:31:24.462564Z",
     "iopub.status.idle": "2021-11-27T07:31:24.478360Z",
     "shell.execute_reply": "2021-11-27T07:31:24.477196Z",
     "shell.execute_reply.started": "2021-11-27T07:31:24.462930Z"
    },
    "id": "_TnwaOWfDfhi"
   },
   "outputs": [],
   "source": [
    "import pandas as pd\n",
    "import numpy as np"
   ]
  },
  {
   "cell_type": "code",
   "execution_count": 3,
   "metadata": {
    "execution": {
     "iopub.execute_input": "2021-11-27T07:31:24.481869Z",
     "iopub.status.busy": "2021-11-27T07:31:24.481012Z",
     "iopub.status.idle": "2021-11-27T07:31:24.870300Z",
     "shell.execute_reply": "2021-11-27T07:31:24.869330Z",
     "shell.execute_reply.started": "2021-11-27T07:31:24.481819Z"
    },
    "id": "ExVN3u4IDfhq"
   },
   "outputs": [],
   "source": [
    "df = pd.read_csv('essays.csv', encoding=\"latin-1\")"
   ]
  },
  {
   "cell_type": "code",
   "execution_count": 4,
   "metadata": {
    "colab": {
     "base_uri": "https://localhost:8080/",
     "height": 206
    },
    "id": "nYyEj0FBIifM",
    "outputId": "d1b68938-dd09-4734-e29d-33e0d264decb"
   },
   "outputs": [
    {
     "data": {
      "text/html": [
       "<div>\n",
       "<style scoped>\n",
       "    .dataframe tbody tr th:only-of-type {\n",
       "        vertical-align: middle;\n",
       "    }\n",
       "\n",
       "    .dataframe tbody tr th {\n",
       "        vertical-align: top;\n",
       "    }\n",
       "\n",
       "    .dataframe thead th {\n",
       "        text-align: right;\n",
       "    }\n",
       "</style>\n",
       "<table border=\"1\" class=\"dataframe\">\n",
       "  <thead>\n",
       "    <tr style=\"text-align: right;\">\n",
       "      <th></th>\n",
       "      <th>AUTHID</th>\n",
       "      <th>TEXT</th>\n",
       "      <th>cEXT</th>\n",
       "      <th>cNEU</th>\n",
       "      <th>cAGR</th>\n",
       "      <th>cCON</th>\n",
       "      <th>cOPN</th>\n",
       "    </tr>\n",
       "  </thead>\n",
       "  <tbody>\n",
       "    <tr>\n",
       "      <th>0</th>\n",
       "      <td>1997_504851.txt</td>\n",
       "      <td>Well, right now I just woke up from a mid-day ...</td>\n",
       "      <td>n</td>\n",
       "      <td>y</td>\n",
       "      <td>y</td>\n",
       "      <td>n</td>\n",
       "      <td>y</td>\n",
       "    </tr>\n",
       "    <tr>\n",
       "      <th>1</th>\n",
       "      <td>1997_605191.txt</td>\n",
       "      <td>Well, here we go with the stream of consciousn...</td>\n",
       "      <td>n</td>\n",
       "      <td>n</td>\n",
       "      <td>y</td>\n",
       "      <td>n</td>\n",
       "      <td>n</td>\n",
       "    </tr>\n",
       "    <tr>\n",
       "      <th>2</th>\n",
       "      <td>1997_687252.txt</td>\n",
       "      <td>An open keyboard and buttons to push. The thin...</td>\n",
       "      <td>n</td>\n",
       "      <td>y</td>\n",
       "      <td>n</td>\n",
       "      <td>y</td>\n",
       "      <td>y</td>\n",
       "    </tr>\n",
       "    <tr>\n",
       "      <th>3</th>\n",
       "      <td>1997_568848.txt</td>\n",
       "      <td>I can't believe it!  It's really happening!  M...</td>\n",
       "      <td>y</td>\n",
       "      <td>n</td>\n",
       "      <td>y</td>\n",
       "      <td>y</td>\n",
       "      <td>n</td>\n",
       "    </tr>\n",
       "    <tr>\n",
       "      <th>4</th>\n",
       "      <td>1997_688160.txt</td>\n",
       "      <td>Well, here I go with the good old stream of co...</td>\n",
       "      <td>y</td>\n",
       "      <td>n</td>\n",
       "      <td>y</td>\n",
       "      <td>n</td>\n",
       "      <td>y</td>\n",
       "    </tr>\n",
       "  </tbody>\n",
       "</table>\n",
       "</div>"
      ],
      "text/plain": [
       "            AUTHID                                               TEXT cEXT  \\\n",
       "0  1997_504851.txt  Well, right now I just woke up from a mid-day ...    n   \n",
       "1  1997_605191.txt  Well, here we go with the stream of consciousn...    n   \n",
       "2  1997_687252.txt  An open keyboard and buttons to push. The thin...    n   \n",
       "3  1997_568848.txt  I can't believe it!  It's really happening!  M...    y   \n",
       "4  1997_688160.txt  Well, here I go with the good old stream of co...    y   \n",
       "\n",
       "  cNEU cAGR cCON cOPN  \n",
       "0    y    y    n    y  \n",
       "1    n    y    n    n  \n",
       "2    y    n    y    y  \n",
       "3    n    y    y    n  \n",
       "4    n    y    n    y  "
      ]
     },
     "execution_count": 4,
     "metadata": {},
     "output_type": "execute_result"
    }
   ],
   "source": [
    "df.head(5)"
   ]
  },
  {
   "cell_type": "code",
   "execution_count": 5,
   "metadata": {
    "id": "x4dHBSEaNc1r"
   },
   "outputs": [],
   "source": [
    "df= df.iloc[:,1:]"
   ]
  },
  {
   "cell_type": "code",
   "execution_count": 6,
   "metadata": {
    "colab": {
     "base_uri": "https://localhost:8080/",
     "height": 206
    },
    "id": "eT2sZ6mpNhOc",
    "outputId": "35d86e10-3a6b-4100-aa31-c5f5c701613f"
   },
   "outputs": [
    {
     "data": {
      "text/html": [
       "<div>\n",
       "<style scoped>\n",
       "    .dataframe tbody tr th:only-of-type {\n",
       "        vertical-align: middle;\n",
       "    }\n",
       "\n",
       "    .dataframe tbody tr th {\n",
       "        vertical-align: top;\n",
       "    }\n",
       "\n",
       "    .dataframe thead th {\n",
       "        text-align: right;\n",
       "    }\n",
       "</style>\n",
       "<table border=\"1\" class=\"dataframe\">\n",
       "  <thead>\n",
       "    <tr style=\"text-align: right;\">\n",
       "      <th></th>\n",
       "      <th>TEXT</th>\n",
       "      <th>cEXT</th>\n",
       "      <th>cNEU</th>\n",
       "      <th>cAGR</th>\n",
       "      <th>cCON</th>\n",
       "      <th>cOPN</th>\n",
       "    </tr>\n",
       "  </thead>\n",
       "  <tbody>\n",
       "    <tr>\n",
       "      <th>0</th>\n",
       "      <td>Well, right now I just woke up from a mid-day ...</td>\n",
       "      <td>n</td>\n",
       "      <td>y</td>\n",
       "      <td>y</td>\n",
       "      <td>n</td>\n",
       "      <td>y</td>\n",
       "    </tr>\n",
       "    <tr>\n",
       "      <th>1</th>\n",
       "      <td>Well, here we go with the stream of consciousn...</td>\n",
       "      <td>n</td>\n",
       "      <td>n</td>\n",
       "      <td>y</td>\n",
       "      <td>n</td>\n",
       "      <td>n</td>\n",
       "    </tr>\n",
       "    <tr>\n",
       "      <th>2</th>\n",
       "      <td>An open keyboard and buttons to push. The thin...</td>\n",
       "      <td>n</td>\n",
       "      <td>y</td>\n",
       "      <td>n</td>\n",
       "      <td>y</td>\n",
       "      <td>y</td>\n",
       "    </tr>\n",
       "    <tr>\n",
       "      <th>3</th>\n",
       "      <td>I can't believe it!  It's really happening!  M...</td>\n",
       "      <td>y</td>\n",
       "      <td>n</td>\n",
       "      <td>y</td>\n",
       "      <td>y</td>\n",
       "      <td>n</td>\n",
       "    </tr>\n",
       "    <tr>\n",
       "      <th>4</th>\n",
       "      <td>Well, here I go with the good old stream of co...</td>\n",
       "      <td>y</td>\n",
       "      <td>n</td>\n",
       "      <td>y</td>\n",
       "      <td>n</td>\n",
       "      <td>y</td>\n",
       "    </tr>\n",
       "  </tbody>\n",
       "</table>\n",
       "</div>"
      ],
      "text/plain": [
       "                                                TEXT cEXT cNEU cAGR cCON cOPN\n",
       "0  Well, right now I just woke up from a mid-day ...    n    y    y    n    y\n",
       "1  Well, here we go with the stream of consciousn...    n    n    y    n    n\n",
       "2  An open keyboard and buttons to push. The thin...    n    y    n    y    y\n",
       "3  I can't believe it!  It's really happening!  M...    y    n    y    y    n\n",
       "4  Well, here I go with the good old stream of co...    y    n    y    n    y"
      ]
     },
     "execution_count": 6,
     "metadata": {},
     "output_type": "execute_result"
    }
   ],
   "source": [
    "df.head()"
   ]
  },
  {
   "cell_type": "code",
   "execution_count": 7,
   "metadata": {
    "colab": {
     "base_uri": "https://localhost:8080/"
    },
    "execution": {
     "iopub.execute_input": "2021-11-27T07:31:24.967847Z",
     "iopub.status.busy": "2021-11-27T07:31:24.967506Z",
     "iopub.status.idle": "2021-11-27T07:31:24.978880Z",
     "shell.execute_reply": "2021-11-27T07:31:24.978119Z",
     "shell.execute_reply.started": "2021-11-27T07:31:24.967816Z"
    },
    "id": "8-0G3VnDDfhv",
    "outputId": "bc19bb9a-7b26-454a-e3ec-8bb92791c345"
   },
   "outputs": [
    {
     "data": {
      "text/plain": [
       "TEXT    0\n",
       "cEXT    0\n",
       "cNEU    0\n",
       "cAGR    0\n",
       "cCON    0\n",
       "cOPN    0\n",
       "dtype: int64"
      ]
     },
     "execution_count": 7,
     "metadata": {},
     "output_type": "execute_result"
    }
   ],
   "source": [
    "df.isnull().sum()"
   ]
  },
  {
   "cell_type": "code",
   "execution_count": 8,
   "metadata": {
    "colab": {
     "base_uri": "https://localhost:8080/"
    },
    "execution": {
     "iopub.execute_input": "2021-11-27T07:31:25.014710Z",
     "iopub.status.busy": "2021-11-27T07:31:25.014238Z",
     "iopub.status.idle": "2021-11-27T07:31:25.021150Z",
     "shell.execute_reply": "2021-11-27T07:31:25.020182Z",
     "shell.execute_reply.started": "2021-11-27T07:31:25.014662Z"
    },
    "id": "1UROplqIDfhx",
    "outputId": "f12f5814-a88b-4ab9-9e89-386f02d11cdd"
   },
   "outputs": [
    {
     "data": {
      "text/plain": [
       "(2467, 6)"
      ]
     },
     "execution_count": 8,
     "metadata": {},
     "output_type": "execute_result"
    }
   ],
   "source": [
    "df.shape"
   ]
  },
  {
   "cell_type": "code",
   "execution_count": 9,
   "metadata": {
    "colab": {
     "base_uri": "https://localhost:8080/"
    },
    "execution": {
     "iopub.execute_input": "2021-11-27T07:31:25.022940Z",
     "iopub.status.busy": "2021-11-27T07:31:25.022414Z",
     "iopub.status.idle": "2021-11-27T07:31:25.064045Z",
     "shell.execute_reply": "2021-11-27T07:31:25.063077Z",
     "shell.execute_reply.started": "2021-11-27T07:31:25.022905Z"
    },
    "id": "CW_XtBzdDfhz",
    "outputId": "06045ce7-51a2-4c16-b57b-c7aba2b90c75"
   },
   "outputs": [
    {
     "data": {
      "text/plain": [
       "0"
      ]
     },
     "execution_count": 9,
     "metadata": {},
     "output_type": "execute_result"
    }
   ],
   "source": [
    "df.duplicated().sum()"
   ]
  },
  {
   "cell_type": "code",
   "execution_count": 10,
   "metadata": {
    "id": "RRbR1CObNwP_"
   },
   "outputs": [],
   "source": [
    "#data is clean so we now rename columns to convinient names"
   ]
  },
  {
   "cell_type": "code",
   "execution_count": 11,
   "metadata": {
    "id": "aEAkA9nlN27S"
   },
   "outputs": [],
   "source": [
    "df.rename(columns={'TEXT':'text','cEXT':'ext','cNEU':'neu','cAGR':'agr','cCON':'con','cOPN':'opn'},inplace=True)"
   ]
  },
  {
   "cell_type": "code",
   "execution_count": 12,
   "metadata": {
    "colab": {
     "base_uri": "https://localhost:8080/",
     "height": 206
    },
    "id": "_HFv7-CzOTHz",
    "outputId": "df34d57b-8719-4347-f32a-adeb9fd96423"
   },
   "outputs": [
    {
     "data": {
      "text/html": [
       "<div>\n",
       "<style scoped>\n",
       "    .dataframe tbody tr th:only-of-type {\n",
       "        vertical-align: middle;\n",
       "    }\n",
       "\n",
       "    .dataframe tbody tr th {\n",
       "        vertical-align: top;\n",
       "    }\n",
       "\n",
       "    .dataframe thead th {\n",
       "        text-align: right;\n",
       "    }\n",
       "</style>\n",
       "<table border=\"1\" class=\"dataframe\">\n",
       "  <thead>\n",
       "    <tr style=\"text-align: right;\">\n",
       "      <th></th>\n",
       "      <th>text</th>\n",
       "      <th>ext</th>\n",
       "      <th>neu</th>\n",
       "      <th>agr</th>\n",
       "      <th>con</th>\n",
       "      <th>opn</th>\n",
       "    </tr>\n",
       "  </thead>\n",
       "  <tbody>\n",
       "    <tr>\n",
       "      <th>0</th>\n",
       "      <td>Well, right now I just woke up from a mid-day ...</td>\n",
       "      <td>n</td>\n",
       "      <td>y</td>\n",
       "      <td>y</td>\n",
       "      <td>n</td>\n",
       "      <td>y</td>\n",
       "    </tr>\n",
       "    <tr>\n",
       "      <th>1</th>\n",
       "      <td>Well, here we go with the stream of consciousn...</td>\n",
       "      <td>n</td>\n",
       "      <td>n</td>\n",
       "      <td>y</td>\n",
       "      <td>n</td>\n",
       "      <td>n</td>\n",
       "    </tr>\n",
       "    <tr>\n",
       "      <th>2</th>\n",
       "      <td>An open keyboard and buttons to push. The thin...</td>\n",
       "      <td>n</td>\n",
       "      <td>y</td>\n",
       "      <td>n</td>\n",
       "      <td>y</td>\n",
       "      <td>y</td>\n",
       "    </tr>\n",
       "    <tr>\n",
       "      <th>3</th>\n",
       "      <td>I can't believe it!  It's really happening!  M...</td>\n",
       "      <td>y</td>\n",
       "      <td>n</td>\n",
       "      <td>y</td>\n",
       "      <td>y</td>\n",
       "      <td>n</td>\n",
       "    </tr>\n",
       "    <tr>\n",
       "      <th>4</th>\n",
       "      <td>Well, here I go with the good old stream of co...</td>\n",
       "      <td>y</td>\n",
       "      <td>n</td>\n",
       "      <td>y</td>\n",
       "      <td>n</td>\n",
       "      <td>y</td>\n",
       "    </tr>\n",
       "  </tbody>\n",
       "</table>\n",
       "</div>"
      ],
      "text/plain": [
       "                                                text ext neu agr con opn\n",
       "0  Well, right now I just woke up from a mid-day ...   n   y   y   n   y\n",
       "1  Well, here we go with the stream of consciousn...   n   n   y   n   n\n",
       "2  An open keyboard and buttons to push. The thin...   n   y   n   y   y\n",
       "3  I can't believe it!  It's really happening!  M...   y   n   y   y   n\n",
       "4  Well, here I go with the good old stream of co...   y   n   y   n   y"
      ]
     },
     "execution_count": 12,
     "metadata": {},
     "output_type": "execute_result"
    }
   ],
   "source": [
    "df.head()"
   ]
  },
  {
   "cell_type": "code",
   "execution_count": 13,
   "metadata": {
    "id": "P8Y3rt5POdaS"
   },
   "outputs": [],
   "source": [
    "#change to numerical values\n",
    "df['ext'] = df['ext'].apply(lambda x: 1 if x == 'y' else 0)\n",
    "df['neu'] = df['neu'].apply(lambda x: 1 if x == 'y' else 0)\n",
    "df['agr'] = df['agr'].apply(lambda x: 1 if x == 'y' else 0)\n",
    "df['con'] = df['con'].apply(lambda x: 1 if x == 'y' else 0)\n",
    "df['opn'] = df['opn'].apply(lambda x: 1 if x == 'y' else 0)"
   ]
  },
  {
   "cell_type": "code",
   "execution_count": 14,
   "metadata": {
    "colab": {
     "base_uri": "https://localhost:8080/",
     "height": 206
    },
    "execution": {
     "iopub.execute_input": "2021-11-27T07:31:25.106571Z",
     "iopub.status.busy": "2021-11-27T07:31:25.105994Z",
     "iopub.status.idle": "2021-11-27T07:31:25.125514Z",
     "shell.execute_reply": "2021-11-27T07:31:25.124585Z",
     "shell.execute_reply.started": "2021-11-27T07:31:25.106520Z"
    },
    "id": "V1teqhqNDfh1",
    "outputId": "6864fe58-4266-4c3c-d0a3-ba600b8dce99"
   },
   "outputs": [
    {
     "data": {
      "text/html": [
       "<div>\n",
       "<style scoped>\n",
       "    .dataframe tbody tr th:only-of-type {\n",
       "        vertical-align: middle;\n",
       "    }\n",
       "\n",
       "    .dataframe tbody tr th {\n",
       "        vertical-align: top;\n",
       "    }\n",
       "\n",
       "    .dataframe thead th {\n",
       "        text-align: right;\n",
       "    }\n",
       "</style>\n",
       "<table border=\"1\" class=\"dataframe\">\n",
       "  <thead>\n",
       "    <tr style=\"text-align: right;\">\n",
       "      <th></th>\n",
       "      <th>text</th>\n",
       "      <th>ext</th>\n",
       "      <th>neu</th>\n",
       "      <th>agr</th>\n",
       "      <th>con</th>\n",
       "      <th>opn</th>\n",
       "    </tr>\n",
       "  </thead>\n",
       "  <tbody>\n",
       "    <tr>\n",
       "      <th>0</th>\n",
       "      <td>Well, right now I just woke up from a mid-day ...</td>\n",
       "      <td>0</td>\n",
       "      <td>1</td>\n",
       "      <td>1</td>\n",
       "      <td>0</td>\n",
       "      <td>1</td>\n",
       "    </tr>\n",
       "    <tr>\n",
       "      <th>1</th>\n",
       "      <td>Well, here we go with the stream of consciousn...</td>\n",
       "      <td>0</td>\n",
       "      <td>0</td>\n",
       "      <td>1</td>\n",
       "      <td>0</td>\n",
       "      <td>0</td>\n",
       "    </tr>\n",
       "    <tr>\n",
       "      <th>2</th>\n",
       "      <td>An open keyboard and buttons to push. The thin...</td>\n",
       "      <td>0</td>\n",
       "      <td>1</td>\n",
       "      <td>0</td>\n",
       "      <td>1</td>\n",
       "      <td>1</td>\n",
       "    </tr>\n",
       "    <tr>\n",
       "      <th>3</th>\n",
       "      <td>I can't believe it!  It's really happening!  M...</td>\n",
       "      <td>1</td>\n",
       "      <td>0</td>\n",
       "      <td>1</td>\n",
       "      <td>1</td>\n",
       "      <td>0</td>\n",
       "    </tr>\n",
       "    <tr>\n",
       "      <th>4</th>\n",
       "      <td>Well, here I go with the good old stream of co...</td>\n",
       "      <td>1</td>\n",
       "      <td>0</td>\n",
       "      <td>1</td>\n",
       "      <td>0</td>\n",
       "      <td>1</td>\n",
       "    </tr>\n",
       "  </tbody>\n",
       "</table>\n",
       "</div>"
      ],
      "text/plain": [
       "                                                text  ext  neu  agr  con  opn\n",
       "0  Well, right now I just woke up from a mid-day ...    0    1    1    0    1\n",
       "1  Well, here we go with the stream of consciousn...    0    0    1    0    0\n",
       "2  An open keyboard and buttons to push. The thin...    0    1    0    1    1\n",
       "3  I can't believe it!  It's really happening!  M...    1    0    1    1    0\n",
       "4  Well, here I go with the good old stream of co...    1    0    1    0    1"
      ]
     },
     "execution_count": 14,
     "metadata": {},
     "output_type": "execute_result"
    }
   ],
   "source": [
    "df.head()"
   ]
  },
  {
   "cell_type": "code",
   "execution_count": 15,
   "metadata": {
    "execution": {
     "iopub.execute_input": "2021-11-27T07:31:25.198718Z",
     "iopub.status.busy": "2021-11-27T07:31:25.197843Z",
     "iopub.status.idle": "2021-11-27T07:31:25.609992Z",
     "shell.execute_reply": "2021-11-27T07:31:25.608959Z",
     "shell.execute_reply.started": "2021-11-27T07:31:25.198655Z"
    },
    "id": "x86NdOmVDfh3"
   },
   "outputs": [],
   "source": [
    "L=[]\n",
    "for i in df['text'].values:\n",
    "    L.extend(i.split())\n",
    "L = list(set(L))"
   ]
  },
  {
   "cell_type": "code",
   "execution_count": 16,
   "metadata": {
    "colab": {
     "base_uri": "https://localhost:8080/"
    },
    "execution": {
     "iopub.execute_input": "2021-11-27T07:31:25.615156Z",
     "iopub.status.busy": "2021-11-27T07:31:25.614822Z",
     "iopub.status.idle": "2021-11-27T07:31:25.640248Z",
     "shell.execute_reply": "2021-11-27T07:31:25.639261Z",
     "shell.execute_reply.started": "2021-11-27T07:31:25.615126Z"
    },
    "id": "TTC305CbDfh3",
    "outputId": "a6f49492-ac8a-44e4-a860-7ed77d65c7a9"
   },
   "outputs": [
    {
     "data": {
      "text/plain": [
       "['believing',\n",
       " 'AUSTRILIA',\n",
       " 'Wedge,',\n",
       " 'laught',\n",
       " 'humility',\n",
       " 'incorrect',\n",
       " 'bs',\n",
       " 'tthem',\n",
       " 'represeintinng',\n",
       " 'Alabama',\n",
       " \"dorms'.\",\n",
       " \"wendy's\",\n",
       " 'weird?',\n",
       " 'VOLLEYBALL',\n",
       " 'california.',\n",
       " 'mission!',\n",
       " 'Wizard',\n",
       " \"Matt's.\",\n",
       " 'vic,',\n",
       " 'slacker.',\n",
       " 'celebrities',\n",
       " 'Britt',\n",
       " 'short?',\n",
       " 'skydiving',\n",
       " 'cab?',\n",
       " 'satrting',\n",
       " 'seeing',\n",
       " 'Soto',\n",
       " 'mechanics.',\n",
       " 'officially,',\n",
       " 'Starcraft',\n",
       " 'spots',\n",
       " 'cursed',\n",
       " 'taught',\n",
       " 'good',\n",
       " 'later?',\n",
       " 'commenting',\n",
       " 'Huge!',\n",
       " '\"made',\n",
       " 'Houston',\n",
       " 'gods.',\n",
       " 'tick.',\n",
       " 'Mississippi',\n",
       " 'fifths',\n",
       " 'And.',\n",
       " '(I\\x92m',\n",
       " 'ROTC,',\n",
       " \"comic's.\",\n",
       " 'exclusive',\n",
       " 'kemo',\n",
       " 'slimming',\n",
       " 'whopping',\n",
       " 'obssessive',\n",
       " 'peck',\n",
       " 'prob.',\n",
       " 'sign.',\n",
       " 'Peppers',\n",
       " 'Americans.',\n",
       " 'vie',\n",
       " 'knees.',\n",
       " 'tired',\n",
       " 'driveway,',\n",
       " 'banana.',\n",
       " 'alowed',\n",
       " 'BCIS.',\n",
       " 'genie.',\n",
       " \"didn't),\",\n",
       " 'activites',\n",
       " 'topday',\n",
       " 'guy\"',\n",
       " 'Virgin',\n",
       " 'inevitable,',\n",
       " 'moonlight',\n",
       " 'subliminally.',\n",
       " 'dozing',\n",
       " 'kidding!',\n",
       " 'headband',\n",
       " 'HT',\n",
       " 'venture',\n",
       " '9:30--I',\n",
       " 'Kate.',\n",
       " 'Hezbollah,',\n",
       " 'miscommunication',\n",
       " 'course--I',\n",
       " 'uncertain!',\n",
       " 'hugely',\n",
       " 'jab',\n",
       " 'conviently',\n",
       " 'Racquetball',\n",
       " 'koozie',\n",
       " 'strength.',\n",
       " 'Poor',\n",
       " 'ouside',\n",
       " 'naturality,',\n",
       " 'rot',\n",
       " 'strict',\n",
       " 'gravity',\n",
       " 'house?',\n",
       " '?You',\n",
       " 'non-engineering',\n",
       " 'revise.',\n",
       " 'tlaked',\n",
       " 'Sweeny.',\n",
       " 'Matrix:',\n",
       " '5:27',\n",
       " 'time-',\n",
       " 'Burleson,',\n",
       " 'Flinstone',\n",
       " 'mellowed',\n",
       " 'tend',\n",
       " 'irresponsible',\n",
       " 'caan',\n",
       " 'meet)',\n",
       " 'ELSE',\n",
       " \"Ican't\",\n",
       " 'sufficient,',\n",
       " 'yadda,',\n",
       " 'drews,',\n",
       " 'everybody',\n",
       " 'miracles',\n",
       " 'wrong??',\n",
       " 'crystals',\n",
       " \"(he's\",\n",
       " 'yourself',\n",
       " 'on-',\n",
       " 'coo-coo',\n",
       " 'hobbit',\n",
       " 'schoool',\n",
       " 'Aladin',\n",
       " 'prerogative',\n",
       " 'inkling',\n",
       " 'word?)',\n",
       " 'vehemence',\n",
       " 'aggressor',\n",
       " 'litlle',\n",
       " 'saxophone,',\n",
       " 'manager)',\n",
       " 'Congress',\n",
       " 'Raven,',\n",
       " 'money!!',\n",
       " 'AUGH!',\n",
       " 'TA',\n",
       " 'stressfree',\n",
       " 'COMPLETE,',\n",
       " 'Ever',\n",
       " 'Hedwig',\n",
       " 'govt',\n",
       " '3-7',\n",
       " 'together!)',\n",
       " 'goodbyes.',\n",
       " 'fellowship',\n",
       " 'redeemed',\n",
       " 'called.',\n",
       " 'leading',\n",
       " 'completely)',\n",
       " 'diferently',\n",
       " 'prepaid',\n",
       " '4am',\n",
       " 'Guys.',\n",
       " 'nite',\n",
       " 'outcast.',\n",
       " 'parking)and',\n",
       " 'thikn',\n",
       " 'exagerating.',\n",
       " 'streetcar',\n",
       " 'rear',\n",
       " 'BOYFRIEND',\n",
       " 'theme,',\n",
       " 'chinchilla',\n",
       " 'drinking,a',\n",
       " 'grrrrr!',\n",
       " 'unknow',\n",
       " 'truely',\n",
       " 'Pie',\n",
       " 'cookout.',\n",
       " 'blair',\n",
       " 'minute?',\n",
       " 'WITHOUT',\n",
       " 'attachment.',\n",
       " 'thrilling',\n",
       " 'Twenty',\n",
       " 'dumping',\n",
       " 'appetite',\n",
       " 'card--',\n",
       " 'haha!',\n",
       " 'full-time',\n",
       " 'blue\".',\n",
       " 'Archie',\n",
       " 'relaxed,',\n",
       " '\"YES!\"',\n",
       " 'stress;',\n",
       " 'Yay!!',\n",
       " 'internationally',\n",
       " 'squirrel,',\n",
       " 'Brandi',\n",
       " 'ON;Y',\n",
       " 'exempt',\n",
       " 'Messed',\n",
       " 'Everybody',\n",
       " 'melt',\n",
       " 'diminished',\n",
       " 'dfeel',\n",
       " 'mounted',\n",
       " 'perky',\n",
       " 'adds',\n",
       " 'Weaver',\n",
       " '(friendships',\n",
       " 'assistance?',\n",
       " 'prisons.',\n",
       " 'lunchs',\n",
       " '37',\n",
       " 'va',\n",
       " '\"FIFTEEN\"',\n",
       " 'night!',\n",
       " 'Sexual',\n",
       " 'beeping.',\n",
       " 'Emma.',\n",
       " 'shortening.',\n",
       " 'whole)',\n",
       " 'josh',\n",
       " 'or.',\n",
       " 'enthusiasm.',\n",
       " 'pit,',\n",
       " 'younger',\n",
       " 'Wall,',\n",
       " 'sack,',\n",
       " 'Velma,',\n",
       " 'documentary,',\n",
       " 'Tongs-Becky',\n",
       " 'admitting',\n",
       " 'goaltender',\n",
       " 'auditions.',\n",
       " 'shattered',\n",
       " 'offened?',\n",
       " 'millionth',\n",
       " 'impossible!',\n",
       " 'ohhhhhh',\n",
       " 'like(d)',\n",
       " 'progressed',\n",
       " 'pacifist',\n",
       " 'eternally',\n",
       " 'introspective.',\n",
       " 'SAT',\n",
       " 'gir(keyboard',\n",
       " 'Doobie',\n",
       " 'allright',\n",
       " \"Must've\",\n",
       " '9/11',\n",
       " 'imean',\n",
       " 'squeezing',\n",
       " 'Pipit',\n",
       " \"we've\",\n",
       " 'studied/interviewed',\n",
       " 'workds',\n",
       " 'over;',\n",
       " 'Noon.',\n",
       " 'considers',\n",
       " \"Father's\",\n",
       " 'alright',\n",
       " 'stepdad',\n",
       " 'Hum,',\n",
       " 'Tracie(same',\n",
       " 'Seguin',\n",
       " 'hump.',\n",
       " 'asks,',\n",
       " 'SCHOOL.',\n",
       " 'virtuous',\n",
       " 'Hong',\n",
       " 'same',\n",
       " 'tiared.',\n",
       " 'Ashley?',\n",
       " 'insides.',\n",
       " 'protect,',\n",
       " 'paul',\n",
       " 'yawn.',\n",
       " 'What?',\n",
       " 'antonio',\n",
       " 'Pump',\n",
       " 'dead?????',\n",
       " 'abut',\n",
       " 'Sting.',\n",
       " 'electric',\n",
       " 'YUork',\n",
       " 'thicker,',\n",
       " 'crazy,',\n",
       " '22,',\n",
       " 'SMF',\n",
       " 'sanctum',\n",
       " 'Promotions,',\n",
       " 'miniature,',\n",
       " 'Donald',\n",
       " 'millions!)',\n",
       " 'lalalala',\n",
       " '11th',\n",
       " 'despite',\n",
       " 'piling',\n",
       " 'terrible?',\n",
       " 'Key',\n",
       " 'reunited',\n",
       " \"kapluvousky's\",\n",
       " 'lit',\n",
       " 'clown.',\n",
       " \"'eligible\",\n",
       " '\"Want',\n",
       " 'yr.',\n",
       " 'cower',\n",
       " 'primary',\n",
       " '(sarcasm).',\n",
       " '2-3.',\n",
       " '9/11.',\n",
       " 'becomesomthing',\n",
       " 'MISTAKES,',\n",
       " 'assignmment',\n",
       " 'POINT',\n",
       " 'readjusts',\n",
       " 'time-they',\n",
       " 'pianist.',\n",
       " 'Wil',\n",
       " 'trancended',\n",
       " 'aerospace',\n",
       " 'frightening',\n",
       " 'harmful',\n",
       " 'entertaining!!!',\n",
       " 'formed',\n",
       " 'infancy',\n",
       " 'alicean,',\n",
       " 'guess!',\n",
       " 'heel',\n",
       " 'HERE',\n",
       " 'distractions?',\n",
       " 'relaize',\n",
       " 'folks',\n",
       " 'ethnic',\n",
       " 'fetus',\n",
       " 'Freshmen.',\n",
       " 'gosh,',\n",
       " 'Discussion',\n",
       " 'More',\n",
       " 'soda.',\n",
       " 'stupid?',\n",
       " '13.',\n",
       " 'Rub',\n",
       " 'outlawed.',\n",
       " 'Ladies',\n",
       " 'Floresville,',\n",
       " 'yourself;',\n",
       " 'Yea!',\n",
       " 'respected.',\n",
       " 'night).',\n",
       " 'compulsion',\n",
       " 'Reid',\n",
       " 'grosests',\n",
       " 'Prague.',\n",
       " 'carlin',\n",
       " 'head?',\n",
       " \"sayin',\",\n",
       " 'Universal',\n",
       " 'examination',\n",
       " 'tempations',\n",
       " 'Goc',\n",
       " 'Patrick?',\n",
       " 'sebastian.',\n",
       " 'instructions.',\n",
       " \"'bout\",\n",
       " 'handy!',\n",
       " 'coco.',\n",
       " 'surgery.',\n",
       " 'Bennett',\n",
       " 'Kristy',\n",
       " 'thourhg',\n",
       " 'teacher],',\n",
       " 'llevas',\n",
       " 'YEESH.',\n",
       " 'flight',\n",
       " 'College',\n",
       " 'Ronnie.',\n",
       " 'utterly',\n",
       " 'True',\n",
       " 'Beta',\n",
       " 'PHILOSOPHY',\n",
       " '$8000',\n",
       " 'Vitamin',\n",
       " 'comforting.',\n",
       " 'actully',\n",
       " 'Amelia',\n",
       " 'Brown',\n",
       " 'interfere',\n",
       " 'darkness,',\n",
       " 'Northwest',\n",
       " 'Taiwan',\n",
       " 'screensaver.',\n",
       " '\"can',\n",
       " 'momoko.',\n",
       " 'unenergized',\n",
       " 'bitching!',\n",
       " 'YOU.',\n",
       " \"Brewser's\",\n",
       " '(slide',\n",
       " 'statement.',\n",
       " 'chores',\n",
       " 'frankly,',\n",
       " 'Allison',\n",
       " 'vitamin',\n",
       " 'Computers,',\n",
       " 'seinfeld.',\n",
       " 'Carre',\n",
       " 'positive,',\n",
       " 'am,',\n",
       " 'condos',\n",
       " 'holes.',\n",
       " 'rigs,',\n",
       " 'hobbies.',\n",
       " 'succumb',\n",
       " 'manipulating',\n",
       " 'UCLA,',\n",
       " 'enjoyed/enjoy.',\n",
       " 'even,',\n",
       " 'immaturity,',\n",
       " 'JOHN!!!!!!!!!!!',\n",
       " 'awareness',\n",
       " 'shyness.',\n",
       " 'tied',\n",
       " 'computing',\n",
       " 'hard.',\n",
       " 'shake',\n",
       " 'corny,',\n",
       " 'feeling.',\n",
       " ']',\n",
       " 'cooking.',\n",
       " 'Naval',\n",
       " 'masha',\n",
       " 'LOT.',\n",
       " 'pill',\n",
       " '\"adequate\"',\n",
       " 'self-infatuation.',\n",
       " 'companion,',\n",
       " 'infinitly',\n",
       " 'leagues',\n",
       " 'representation',\n",
       " 'torture!',\n",
       " 'ex-girlfriend,',\n",
       " 'co-exist.',\n",
       " 'Wagner.',\n",
       " 'con.',\n",
       " 'nutrition.',\n",
       " 'gigantic',\n",
       " 'storm.',\n",
       " 'director?',\n",
       " 'kirk',\n",
       " 'Belmont.',\n",
       " 'clarifies',\n",
       " 'perplexed',\n",
       " 'Dead.',\n",
       " '(c)',\n",
       " 'artificial',\n",
       " 'philisophical',\n",
       " 'rebeccas',\n",
       " 'Ring',\n",
       " 'illogically',\n",
       " 'afterward',\n",
       " 'wolf.',\n",
       " 'dancing.',\n",
       " 'assingnment',\n",
       " 'MCRD',\n",
       " 'Casey',\n",
       " 'reading',\n",
       " 'paralyzing',\n",
       " 'belive',\n",
       " 'dosent',\n",
       " 'hush',\n",
       " 'indian',\n",
       " 'nonacademic.',\n",
       " 'typed,',\n",
       " \"Dirty's\",\n",
       " 'detox',\n",
       " 'Lacrosse',\n",
       " \"cry-I'll\",\n",
       " 'especially,',\n",
       " '80,',\n",
       " 'crazy;',\n",
       " '310f',\n",
       " 'WHEN',\n",
       " 'condition?',\n",
       " 'evaluating',\n",
       " 'Virginia,',\n",
       " 'argument',\n",
       " '137.',\n",
       " 'bangs',\n",
       " 'HOUR,',\n",
       " ',ist',\n",
       " 'celebrating',\n",
       " 'presence',\n",
       " 'universities',\n",
       " 'cabin,',\n",
       " 'thinking,',\n",
       " 'faulkner.',\n",
       " 'roast.',\n",
       " 'enlightening',\n",
       " 'LOCKED',\n",
       " 'reggie',\n",
       " 'emailed',\n",
       " 'thanksgiving,',\n",
       " 'superficial.',\n",
       " 'mower',\n",
       " 'Daron',\n",
       " 'alarm',\n",
       " 'theneed',\n",
       " 'oyster',\n",
       " 'officer,',\n",
       " 'Avenue',\n",
       " 'freezer,',\n",
       " 'wise)',\n",
       " 'Notbody',\n",
       " '26,',\n",
       " 'terrorists,',\n",
       " 'huh?',\n",
       " 'hounding',\n",
       " 'reserved',\n",
       " 'facet',\n",
       " 'property',\n",
       " 'nich',\n",
       " 'freak!',\n",
       " 'disenrolled',\n",
       " 'qualified',\n",
       " 'laughter.',\n",
       " 'Blasted',\n",
       " 'summer,',\n",
       " '\"indian.',\n",
       " 'misgivings.',\n",
       " 'teacher)',\n",
       " 'prooblem',\n",
       " 'tennis?',\n",
       " 'escxapre',\n",
       " 'overwhelemed',\n",
       " 'advocate',\n",
       " \"becca's\",\n",
       " \"Grandpa's\",\n",
       " 'and,',\n",
       " 'someones',\n",
       " 'knobs',\n",
       " 'arrogance.',\n",
       " 'refilled.',\n",
       " 'star-drops,',\n",
       " 'blur,',\n",
       " 'aron',\n",
       " 'do\"',\n",
       " 'humor,',\n",
       " 'gossip,',\n",
       " 'Gatorade',\n",
       " 'headaches.',\n",
       " 'painful',\n",
       " 'put',\n",
       " 'unfinished',\n",
       " 'surprizingly',\n",
       " 'Subway,',\n",
       " 'courteous',\n",
       " 'beaten',\n",
       " 'get,',\n",
       " 'resolved.',\n",
       " 'hen,',\n",
       " 'useless,',\n",
       " 'since.',\n",
       " 'sima.',\n",
       " 'perchasing',\n",
       " 'Hi-C.',\n",
       " 'taped',\n",
       " \"Bevo's!\",\n",
       " 'Sherlock',\n",
       " 'FILL',\n",
       " 'gabe.',\n",
       " 'secure',\n",
       " 'rituals',\n",
       " 'asked',\n",
       " 'everyday\"',\n",
       " 'yours?\".',\n",
       " 'TexasOU',\n",
       " 'continue,',\n",
       " 'back;.',\n",
       " 'kilt',\n",
       " 'arms/chest.',\n",
       " 'wagon!!',\n",
       " '\"unexcused',\n",
       " 'institute.',\n",
       " 'hw.',\n",
       " 'clank',\n",
       " 'skits',\n",
       " 'doen',\n",
       " 'studious',\n",
       " 'soetimes',\n",
       " 'murders.',\n",
       " '11:25',\n",
       " 'jive',\n",
       " 'Indiana.',\n",
       " \"z's\",\n",
       " 'academy',\n",
       " 'Corolla.',\n",
       " 'brings',\n",
       " 'pharmacist.',\n",
       " 'excitement,',\n",
       " '(digital',\n",
       " 'Spears.',\n",
       " 'pitiful!',\n",
       " 'saying.',\n",
       " 'fingernails.',\n",
       " \"Mel's\",\n",
       " 'sweett',\n",
       " 'knowing.',\n",
       " 'correspondence',\n",
       " 'read/hear',\n",
       " 'adnd',\n",
       " 'breakups',\n",
       " 'feeling?',\n",
       " 'started,',\n",
       " 'traditional,',\n",
       " 'sending',\n",
       " 'decide,',\n",
       " 'surrendering',\n",
       " 'trivial,',\n",
       " 'arouund',\n",
       " 'Day.',\n",
       " 'prize',\n",
       " \"paper's\",\n",
       " 'clove',\n",
       " 'Camilla',\n",
       " 'God!!',\n",
       " 'penthouse',\n",
       " 'married,',\n",
       " 'approaching',\n",
       " 'selfportrait.',\n",
       " 'permission',\n",
       " 'jazz.',\n",
       " 'corny',\n",
       " 'type?',\n",
       " 'insatiable.',\n",
       " 'CSN&Y',\n",
       " 'Charley',\n",
       " 'Pudge',\n",
       " 'code,',\n",
       " 'some\"',\n",
       " 'set;',\n",
       " 'trampoline.',\n",
       " 'Bauhaus',\n",
       " 'signing,',\n",
       " 'worse',\n",
       " '10pm',\n",
       " '\"deep',\n",
       " 'WHY?',\n",
       " 'facilitated',\n",
       " 'flyers.',\n",
       " 'youi',\n",
       " 'Bela',\n",
       " 'supposes',\n",
       " 'bamboo',\n",
       " 'Connecticut',\n",
       " 'calculus.',\n",
       " 'funnier',\n",
       " 'berating',\n",
       " 'ugly\".',\n",
       " 'proves',\n",
       " '\"\\'til',\n",
       " 'thinkshe',\n",
       " 'Rosie.',\n",
       " 'passion?',\n",
       " 'expecting',\n",
       " 'events,',\n",
       " 'boyfriends,',\n",
       " 'Jo',\n",
       " 'memorized.',\n",
       " 'actor.',\n",
       " 'eveyr',\n",
       " '\"promise',\n",
       " 'britta.',\n",
       " '1)the',\n",
       " 'professors.',\n",
       " 'cem,',\n",
       " 'They\\x92ll',\n",
       " 'resistance',\n",
       " '0),',\n",
       " 'backpacks',\n",
       " 'unbearable.',\n",
       " 'queerly.',\n",
       " 'rapids',\n",
       " 'recieve',\n",
       " 'bassline',\n",
       " 'hmmmmm',\n",
       " 'boner',\n",
       " 'Rohrshac(inkblot',\n",
       " 'majesties',\n",
       " 'WE.',\n",
       " 'alcohol?',\n",
       " 'valhalla',\n",
       " 'contineous',\n",
       " 'brytt',\n",
       " 'rattled',\n",
       " 'beckoning.',\n",
       " 'conceited.',\n",
       " 'unfullfilled',\n",
       " 'favoritism.',\n",
       " 'deeply.',\n",
       " 'absurdly',\n",
       " 'stoopid',\n",
       " 'extroverted.',\n",
       " 'thingkin',\n",
       " 'feasible',\n",
       " 'determined,',\n",
       " 'delimma',\n",
       " 'papa,',\n",
       " 'foosball,',\n",
       " 'fiesta.',\n",
       " 'Excuse',\n",
       " 'platform',\n",
       " 'ambient',\n",
       " 'titilate',\n",
       " 'Byron.',\n",
       " 'sparrow,',\n",
       " 'producing',\n",
       " 'non-stop',\n",
       " 'preparing.',\n",
       " 'unwrap',\n",
       " 'degree!',\n",
       " 'GRRRR,',\n",
       " 'drinknig',\n",
       " 'Well-',\n",
       " 'lavalamp',\n",
       " 'characters.',\n",
       " 'gary',\n",
       " 'customers.',\n",
       " 'consume',\n",
       " '1260',\n",
       " 'starving.',\n",
       " 'voicce',\n",
       " 'overly',\n",
       " 'starcraft.',\n",
       " 'realx',\n",
       " 'enchanted',\n",
       " 'complicating.',\n",
       " 'Peapod',\n",
       " 'uhhhh.',\n",
       " 'Nukes',\n",
       " 'precious',\n",
       " 'damper',\n",
       " 'howl',\n",
       " 'inn',\n",
       " 'y',\n",
       " 'energy,',\n",
       " 'Heh.',\n",
       " 'sunshine.',\n",
       " 'journal',\n",
       " 'Flakes.',\n",
       " 'lightening',\n",
       " 'thinking????',\n",
       " 'activity',\n",
       " 'resources',\n",
       " 'HOW',\n",
       " 'somany',\n",
       " 'Missy',\n",
       " 'Johnny',\n",
       " 'omitted',\n",
       " 'amanda-',\n",
       " 'I\\\\I',\n",
       " 'strapless',\n",
       " 'ow.',\n",
       " 'sinse',\n",
       " 'ARRGH',\n",
       " 'Stay.',\n",
       " 'nothing;',\n",
       " \"Nayel's\",\n",
       " 'sniffle,',\n",
       " 'historical.',\n",
       " 'MCAT,',\n",
       " 'housing)',\n",
       " '?healthy?',\n",
       " 'appease',\n",
       " 'enlightening.',\n",
       " 'fixed',\n",
       " 'benififtes',\n",
       " 'Beeson,',\n",
       " 'e-card',\n",
       " 'evan.',\n",
       " 'digit',\n",
       " 'illuminated.',\n",
       " 'perfect',\n",
       " 'wishy',\n",
       " 'feminine.',\n",
       " 'atfor',\n",
       " '49',\n",
       " 'spotting',\n",
       " \"Rob's\",\n",
       " 'taking!',\n",
       " 'nineteen',\n",
       " 'Mainly',\n",
       " 'dirty',\n",
       " 'regardless',\n",
       " 'Frustrating',\n",
       " '9,',\n",
       " 'Line',\n",
       " '1:00.',\n",
       " 'ifurita',\n",
       " 'cheater.',\n",
       " 'Coco',\n",
       " '\"The',\n",
       " 'consciousness---I',\n",
       " 'loves',\n",
       " 'few.',\n",
       " 'affectianate',\n",
       " \"Pace's\",\n",
       " \"its'elf.\",\n",
       " 'tift.',\n",
       " 'understands.',\n",
       " 'fight)',\n",
       " 'Cali.',\n",
       " 'Throught',\n",
       " 'chair.',\n",
       " 'mas',\n",
       " 'huge',\n",
       " 'Gore',\n",
       " 'classified',\n",
       " 'Arundathi',\n",
       " 'moivies',\n",
       " 'THING',\n",
       " 'shield',\n",
       " 'well-rounded.',\n",
       " 'coordination,',\n",
       " 'assert',\n",
       " 'headache.',\n",
       " 'regionals',\n",
       " 'mentor,',\n",
       " 'senseless',\n",
       " 'missplelled',\n",
       " 'existentialists.',\n",
       " 'laod',\n",
       " 'defiantly',\n",
       " 'Jones-',\n",
       " 'Ethernet.',\n",
       " 'UGA.',\n",
       " 'Scarlett',\n",
       " 'atx',\n",
       " 'sting,',\n",
       " 'Sorry.',\n",
       " 'droopy',\n",
       " 'katey.',\n",
       " 'Warhol)',\n",
       " 'WILl',\n",
       " 'Lindsay,',\n",
       " 'disprove',\n",
       " 'year',\n",
       " 'funny.',\n",
       " 'loosened.',\n",
       " 'differences',\n",
       " 'pint',\n",
       " 'after-school',\n",
       " 'melissa.',\n",
       " 'Catholic',\n",
       " 'pukes',\n",
       " 'her?',\n",
       " 'layers',\n",
       " 'musty,',\n",
       " 'Hmmmmmmmmm',\n",
       " 'hS',\n",
       " 'favorites,',\n",
       " 'sdid',\n",
       " 'think.',\n",
       " '(2-5-51)',\n",
       " 'happens?',\n",
       " 'asthetics.',\n",
       " \"io'm\",\n",
       " 'attitudes;',\n",
       " 'constellations.',\n",
       " 'mih\\\\nutes.',\n",
       " 'jewelry',\n",
       " 'zi',\n",
       " 'dislodge',\n",
       " 'radio',\n",
       " 'R.',\n",
       " 'host(janitor)',\n",
       " 'runs',\n",
       " 'porno.',\n",
       " 'deans',\n",
       " 'slants',\n",
       " 'anybody,\"',\n",
       " 'CTSA.',\n",
       " 'George.',\n",
       " 'Joanie,',\n",
       " 'change',\n",
       " 'iu',\n",
       " 'themself.',\n",
       " 'sayin',\n",
       " 'plans',\n",
       " 'unpleasant',\n",
       " 'thieir',\n",
       " 'limited,',\n",
       " 'P',\n",
       " 'thi',\n",
       " 'pillows,',\n",
       " 'etiquette.',\n",
       " 'Anthem,',\n",
       " 'funner.',\n",
       " 'tanned,',\n",
       " 'laughs,',\n",
       " 'aboard',\n",
       " 'hmmmmmm',\n",
       " 'musuems',\n",
       " 'Fiji',\n",
       " 'chemistry.',\n",
       " 'provided.',\n",
       " 'MTv',\n",
       " '1776',\n",
       " 'beauty,',\n",
       " '(?).',\n",
       " 'thoughts??',\n",
       " 'begginning',\n",
       " 'Hot.',\n",
       " 'battery,',\n",
       " 'silently',\n",
       " 'achy',\n",
       " 'posture,',\n",
       " 'deltoids.',\n",
       " 'Phrases',\n",
       " 'stapler',\n",
       " 'bafd',\n",
       " 'bizarre!',\n",
       " 'Gardens',\n",
       " 'cheese',\n",
       " 'asked.',\n",
       " 'Suite.',\n",
       " 'rap',\n",
       " 'prenotion',\n",
       " 'ajnd',\n",
       " 'underpaid?',\n",
       " 'color?',\n",
       " 'Stoops.',\n",
       " 'those,',\n",
       " '\"repeat.',\n",
       " \"Mine's\",\n",
       " 'bus.',\n",
       " \"tehy'd\",\n",
       " 'Management',\n",
       " 'know!?',\n",
       " '1988.',\n",
       " 'gum.',\n",
       " 'always,',\n",
       " 'equitable',\n",
       " 'strives',\n",
       " 'losing,',\n",
       " 'Primal',\n",
       " 'incorporate)despite',\n",
       " 'pace,',\n",
       " 'ricky',\n",
       " 'vocabulary,',\n",
       " 'clumsiness',\n",
       " 'attarctive',\n",
       " 'it-now',\n",
       " 'Christi.',\n",
       " 'funding',\n",
       " 'Anyhow,',\n",
       " '2001',\n",
       " 'illegal',\n",
       " 'tours',\n",
       " 'forbid.',\n",
       " 'linda',\n",
       " 'visitors',\n",
       " 'Washingtone,',\n",
       " 'heartstring,',\n",
       " 'myself?',\n",
       " 'TRICIA',\n",
       " 'guadeloupe',\n",
       " 'help,',\n",
       " 'nicknamed',\n",
       " 'everynight.',\n",
       " 'Malika',\n",
       " 'Hi.',\n",
       " 'Vivian',\n",
       " 'room!',\n",
       " 'blahblahblahblahblahblah',\n",
       " 'Ahhh',\n",
       " 'Mmmm.',\n",
       " 'Agh!',\n",
       " 'sensuous,',\n",
       " 'cases,',\n",
       " 'exactly,',\n",
       " 'alwaays',\n",
       " 'constant,',\n",
       " 'you)',\n",
       " 'Holst.',\n",
       " 'toadstools,',\n",
       " 'division,',\n",
       " 'sucking,',\n",
       " 'cards',\n",
       " 'bounce',\n",
       " 'dusty.',\n",
       " 'lazy.',\n",
       " 'Will',\n",
       " 'tem',\n",
       " '\"myself\".',\n",
       " 'pregnaut.',\n",
       " 'concert.',\n",
       " 'tick,',\n",
       " 'weekends)',\n",
       " 'workin',\n",
       " 'career,',\n",
       " ...]"
      ]
     },
     "execution_count": 16,
     "metadata": {},
     "output_type": "execute_result"
    }
   ],
   "source": [
    "L\n"
   ]
  },
  {
   "cell_type": "code",
   "execution_count": 17,
   "metadata": {
    "execution": {
     "iopub.execute_input": "2021-11-27T07:31:25.642140Z",
     "iopub.status.busy": "2021-11-27T07:31:25.641835Z",
     "iopub.status.idle": "2021-11-27T07:31:25.651609Z",
     "shell.execute_reply": "2021-11-27T07:31:25.650773Z",
     "shell.execute_reply.started": "2021-11-27T07:31:25.642111Z"
    },
    "id": "WBc66ESjDfh4"
   },
   "outputs": [],
   "source": [
    "#text preprocessing\n",
    "#small letters\n",
    "#remove special characters\n",
    "#remove stopwords\n",
    "#convert to vector\n"
   ]
  },
  {
   "cell_type": "code",
   "execution_count": 18,
   "metadata": {
    "execution": {
     "iopub.execute_input": "2021-11-27T07:31:25.653360Z",
     "iopub.status.busy": "2021-11-27T07:31:25.652913Z",
     "iopub.status.idle": "2021-11-27T07:31:25.679231Z",
     "shell.execute_reply": "2021-11-27T07:31:25.678223Z",
     "shell.execute_reply.started": "2021-11-27T07:31:25.653331Z"
    },
    "id": "_TlMXH9oDfh4"
   },
   "outputs": [],
   "source": [
    "df['text'] = df['text'].apply( lambda x : x.lower())"
   ]
  },
  {
   "cell_type": "code",
   "execution_count": 19,
   "metadata": {
    "colab": {
     "base_uri": "https://localhost:8080/",
     "height": 206
    },
    "execution": {
     "iopub.execute_input": "2021-11-27T07:31:25.680889Z",
     "iopub.status.busy": "2021-11-27T07:31:25.680412Z",
     "iopub.status.idle": "2021-11-27T07:31:25.694239Z",
     "shell.execute_reply": "2021-11-27T07:31:25.693065Z",
     "shell.execute_reply.started": "2021-11-27T07:31:25.680854Z"
    },
    "id": "kbDU6GnSDfh4",
    "outputId": "c4eed94a-be41-45d4-e810-9784559d30e8"
   },
   "outputs": [
    {
     "data": {
      "text/html": [
       "<div>\n",
       "<style scoped>\n",
       "    .dataframe tbody tr th:only-of-type {\n",
       "        vertical-align: middle;\n",
       "    }\n",
       "\n",
       "    .dataframe tbody tr th {\n",
       "        vertical-align: top;\n",
       "    }\n",
       "\n",
       "    .dataframe thead th {\n",
       "        text-align: right;\n",
       "    }\n",
       "</style>\n",
       "<table border=\"1\" class=\"dataframe\">\n",
       "  <thead>\n",
       "    <tr style=\"text-align: right;\">\n",
       "      <th></th>\n",
       "      <th>text</th>\n",
       "      <th>ext</th>\n",
       "      <th>neu</th>\n",
       "      <th>agr</th>\n",
       "      <th>con</th>\n",
       "      <th>opn</th>\n",
       "    </tr>\n",
       "  </thead>\n",
       "  <tbody>\n",
       "    <tr>\n",
       "      <th>0</th>\n",
       "      <td>well, right now i just woke up from a mid-day ...</td>\n",
       "      <td>0</td>\n",
       "      <td>1</td>\n",
       "      <td>1</td>\n",
       "      <td>0</td>\n",
       "      <td>1</td>\n",
       "    </tr>\n",
       "    <tr>\n",
       "      <th>1</th>\n",
       "      <td>well, here we go with the stream of consciousn...</td>\n",
       "      <td>0</td>\n",
       "      <td>0</td>\n",
       "      <td>1</td>\n",
       "      <td>0</td>\n",
       "      <td>0</td>\n",
       "    </tr>\n",
       "    <tr>\n",
       "      <th>2</th>\n",
       "      <td>an open keyboard and buttons to push. the thin...</td>\n",
       "      <td>0</td>\n",
       "      <td>1</td>\n",
       "      <td>0</td>\n",
       "      <td>1</td>\n",
       "      <td>1</td>\n",
       "    </tr>\n",
       "    <tr>\n",
       "      <th>3</th>\n",
       "      <td>i can't believe it!  it's really happening!  m...</td>\n",
       "      <td>1</td>\n",
       "      <td>0</td>\n",
       "      <td>1</td>\n",
       "      <td>1</td>\n",
       "      <td>0</td>\n",
       "    </tr>\n",
       "    <tr>\n",
       "      <th>4</th>\n",
       "      <td>well, here i go with the good old stream of co...</td>\n",
       "      <td>1</td>\n",
       "      <td>0</td>\n",
       "      <td>1</td>\n",
       "      <td>0</td>\n",
       "      <td>1</td>\n",
       "    </tr>\n",
       "  </tbody>\n",
       "</table>\n",
       "</div>"
      ],
      "text/plain": [
       "                                                text  ext  neu  agr  con  opn\n",
       "0  well, right now i just woke up from a mid-day ...    0    1    1    0    1\n",
       "1  well, here we go with the stream of consciousn...    0    0    1    0    0\n",
       "2  an open keyboard and buttons to push. the thin...    0    1    0    1    1\n",
       "3  i can't believe it!  it's really happening!  m...    1    0    1    1    0\n",
       "4  well, here i go with the good old stream of co...    1    0    1    0    1"
      ]
     },
     "execution_count": 19,
     "metadata": {},
     "output_type": "execute_result"
    }
   ],
   "source": [
    "df.head()"
   ]
  },
  {
   "cell_type": "code",
   "execution_count": 20,
   "metadata": {
    "execution": {
     "iopub.execute_input": "2021-11-27T07:31:25.696167Z",
     "iopub.status.busy": "2021-11-27T07:31:25.695592Z",
     "iopub.status.idle": "2021-11-27T07:31:25.702076Z",
     "shell.execute_reply": "2021-11-27T07:31:25.700689Z",
     "shell.execute_reply.started": "2021-11-27T07:31:25.696125Z"
    },
    "id": "vr9ipWh_Dfh5"
   },
   "outputs": [],
   "source": [
    "def remove_special_chars(text):\n",
    "    result = \"\"\n",
    "    for i in text:\n",
    "        if i.isalnum() or i ==' ':\n",
    "            result = result + i\n",
    "        else:\n",
    "            result = result + \"\"\n",
    "    return result.strip()"
   ]
  },
  {
   "cell_type": "code",
   "execution_count": 21,
   "metadata": {
    "colab": {
     "base_uri": "https://localhost:8080/"
    },
    "execution": {
     "iopub.execute_input": "2021-11-27T07:31:25.703778Z",
     "iopub.status.busy": "2021-11-27T07:31:25.703423Z",
     "iopub.status.idle": "2021-11-27T07:31:27.566928Z",
     "shell.execute_reply": "2021-11-27T07:31:27.565748Z",
     "shell.execute_reply.started": "2021-11-27T07:31:25.703745Z"
    },
    "id": "bbFoCLs6Dfh5",
    "outputId": "54cf0400-d37b-48cc-988e-416032f9f939"
   },
   "outputs": [
    {
     "data": {
      "text/plain": [
       "0       well right now i just woke up from a midday na...\n",
       "1       well here we go with the stream of consciousne...\n",
       "2       an open keyboard and buttons to push the thing...\n",
       "3       i cant believe it  its really happening  my pu...\n",
       "4       well here i go with the good old stream of con...\n",
       "                              ...                        \n",
       "2462    im home wanted to go to bed but remembered tha...\n",
       "2463    stream of consiousnesssskdj how do you spell t...\n",
       "2464    it is wednesday december 8th and a lot has bee...\n",
       "2465    man this week has been hellish anyways now its...\n",
       "2466    i have just gotten off the phone with brady im...\n",
       "Name: text, Length: 2467, dtype: object"
      ]
     },
     "execution_count": 21,
     "metadata": {},
     "output_type": "execute_result"
    }
   ],
   "source": [
    "df['text'] = df['text'].apply(remove_special_chars)\n",
    "df['text']"
   ]
  },
  {
   "cell_type": "code",
   "execution_count": 22,
   "metadata": {
    "execution": {
     "iopub.execute_input": "2021-11-27T07:31:27.569117Z",
     "iopub.status.busy": "2021-11-27T07:31:27.568690Z",
     "iopub.status.idle": "2021-11-27T07:31:28.586292Z",
     "shell.execute_reply": "2021-11-27T07:31:28.584843Z",
     "shell.execute_reply.started": "2021-11-27T07:31:27.569075Z"
    },
    "id": "MN1EniYLDfh6"
   },
   "outputs": [],
   "source": [
    "from sklearn.feature_extraction.text import CountVectorizer"
   ]
  },
  {
   "cell_type": "code",
   "execution_count": 23,
   "metadata": {
    "execution": {
     "iopub.execute_input": "2021-11-27T07:31:28.588261Z",
     "iopub.status.busy": "2021-11-27T07:31:28.587731Z",
     "iopub.status.idle": "2021-11-27T07:31:28.592850Z",
     "shell.execute_reply": "2021-11-27T07:31:28.591766Z",
     "shell.execute_reply.started": "2021-11-27T07:31:28.588209Z"
    },
    "id": "592exiEFDfh6"
   },
   "outputs": [],
   "source": [
    "cv = CountVectorizer(stop_words='english',max_features = 87500)"
   ]
  },
  {
   "cell_type": "code",
   "execution_count": 24,
   "metadata": {
    "colab": {
     "base_uri": "https://localhost:8080/"
    },
    "execution": {
     "iopub.execute_input": "2021-11-27T07:31:28.594803Z",
     "iopub.status.busy": "2021-11-27T07:31:28.594165Z",
     "iopub.status.idle": "2021-11-27T07:31:30.829307Z",
     "shell.execute_reply": "2021-11-27T07:31:30.828135Z",
     "shell.execute_reply.started": "2021-11-27T07:31:28.594759Z"
    },
    "id": "DkgaknCJDfh7",
    "outputId": "7576b637-437d-483b-9bc7-ae9b543919e4"
   },
   "outputs": [
    {
     "data": {
      "text/plain": [
       "(2467, 31828)"
      ]
     },
     "execution_count": 24,
     "metadata": {},
     "output_type": "execute_result"
    }
   ],
   "source": [
    "X = cv.fit_transform(df['text']).toarray()\n",
    "X.shape"
   ]
  },
  {
   "cell_type": "code",
   "execution_count": 28,
   "metadata": {},
   "outputs": [
    {
     "name": "stdout",
     "output_type": "stream",
     "text": [
      "[[0 0 0 ... 0 0 0]\n",
      " [0 0 0 ... 0 0 0]\n",
      " [0 0 0 ... 0 0 0]\n",
      " ...\n",
      " [0 0 0 ... 0 0 0]\n",
      " [0 0 0 ... 0 0 0]\n",
      " [0 0 0 ... 0 0 0]]\n"
     ]
    }
   ],
   "source": [
    "print(X)"
   ]
  },
  {
   "cell_type": "code",
   "execution_count": 29,
   "metadata": {
    "colab": {
     "base_uri": "https://localhost:8080/"
    },
    "id": "KRzZS_9-ZHdJ",
    "outputId": "b8c94651-4070-402e-9391-1c1859bf9e76"
   },
   "outputs": [
    {
     "data": {
      "text/plain": [
       "(2467, 6)"
      ]
     },
     "execution_count": 29,
     "metadata": {},
     "output_type": "execute_result"
    }
   ],
   "source": [
    "df.shape"
   ]
  },
  {
   "cell_type": "code",
   "execution_count": 30,
   "metadata": {
    "execution": {
     "iopub.execute_input": "2021-11-27T07:31:30.830901Z",
     "iopub.status.busy": "2021-11-27T07:31:30.830561Z",
     "iopub.status.idle": "2021-11-27T07:31:30.836000Z",
     "shell.execute_reply": "2021-11-27T07:31:30.834981Z",
     "shell.execute_reply.started": "2021-11-27T07:31:30.830869Z"
    },
    "id": "8089iXmHDfh7"
   },
   "outputs": [],
   "source": [
    "ext = df['ext'].values.astype('int')\n",
    "neu = df['neu'].values.astype('int')\n",
    "agr = df['agr'].values.astype('int')\n",
    "con = df['con'].values.astype('int')\n",
    "opn = df['opn'].values.astype('int')"
   ]
  },
  {
   "cell_type": "code",
   "execution_count": 31,
   "metadata": {
    "colab": {
     "base_uri": "https://localhost:8080/"
    },
    "execution": {
     "iopub.execute_input": "2021-11-27T07:31:30.854018Z",
     "iopub.status.busy": "2021-11-27T07:31:30.853539Z",
     "iopub.status.idle": "2021-11-27T07:31:30.867070Z",
     "shell.execute_reply": "2021-11-27T07:31:30.866054Z",
     "shell.execute_reply.started": "2021-11-27T07:31:30.853964Z"
    },
    "id": "mMfZUQHtDfh7",
    "outputId": "d90ffe7e-6b8f-426c-e94e-a5e37f31d023"
   },
   "outputs": [
    {
     "data": {
      "text/plain": [
       "(2467,)"
      ]
     },
     "execution_count": 31,
     "metadata": {},
     "output_type": "execute_result"
    }
   ],
   "source": [
    "ext.shape"
   ]
  },
  {
   "cell_type": "code",
   "execution_count": 32,
   "metadata": {
    "id": "xFYJCO43m8A5"
   },
   "outputs": [],
   "source": [
    "ext = df['ext']\n",
    "neu=df['neu']\n",
    "agr = df['agr']\n",
    "con=df['con']\n",
    "opn=df['opn']"
   ]
  },
  {
   "cell_type": "code",
   "execution_count": 33,
   "metadata": {
    "execution": {
     "iopub.execute_input": "2021-11-27T07:31:30.881382Z",
     "iopub.status.busy": "2021-11-27T07:31:30.881043Z",
     "iopub.status.idle": "2021-11-27T07:31:31.163301Z",
     "shell.execute_reply": "2021-11-27T07:31:31.162333Z",
     "shell.execute_reply.started": "2021-11-27T07:31:30.881352Z"
    },
    "id": "_1szWZkFDfh8"
   },
   "outputs": [],
   "source": [
    "from sklearn.model_selection import train_test_split\n",
    "X_train,X_test,ext_train,ext_test = train_test_split(X,ext,test_size=0.3)\n",
    "X1_train,X1_test,neu_train,neu_test = train_test_split(X,neu,test_size=0.3)\n",
    "X2_train,X2_test,agr_train,agr_test = train_test_split(X,agr,test_size=0.3)\n",
    "X3_train,X3_test,con_train,con_test = train_test_split(X,con,test_size=0.3)\n",
    "X4_train,X4_test,opn_train,opn_test = train_test_split(X,opn,test_size=0.3)"
   ]
  },
  {
   "cell_type": "code",
   "execution_count": 34,
   "metadata": {
    "execution": {
     "iopub.execute_input": "2021-11-27T07:31:31.165578Z",
     "iopub.status.busy": "2021-11-27T07:31:31.165136Z",
     "iopub.status.idle": "2021-11-27T07:31:31.173417Z",
     "shell.execute_reply": "2021-11-27T07:31:31.172387Z",
     "shell.execute_reply.started": "2021-11-27T07:31:31.165532Z"
    },
    "id": "ob1M_T8HDfh8"
   },
   "outputs": [],
   "source": [
    "from sklearn.naive_bayes import MultinomialNB"
   ]
  },
  {
   "cell_type": "code",
   "execution_count": 35,
   "metadata": {
    "execution": {
     "iopub.execute_input": "2021-11-27T07:31:31.174922Z",
     "iopub.status.busy": "2021-11-27T07:31:31.174466Z",
     "iopub.status.idle": "2021-11-27T07:31:31.184591Z",
     "shell.execute_reply": "2021-11-27T07:31:31.183757Z",
     "shell.execute_reply.started": "2021-11-27T07:31:31.174892Z"
    },
    "id": "vLYBPMw0Dfh8"
   },
   "outputs": [],
   "source": [
    "eclf = MultinomialNB()\n",
    "nclf = MultinomialNB()\n",
    "aclf= MultinomialNB()\n",
    "cclf = MultinomialNB()\n",
    "oclf = MultinomialNB()"
   ]
  },
  {
   "cell_type": "code",
   "execution_count": 36,
   "metadata": {
    "execution": {
     "iopub.execute_input": "2021-11-27T07:31:31.507546Z",
     "iopub.status.busy": "2021-11-27T07:31:31.507206Z",
     "iopub.status.idle": "2021-11-27T07:31:31.512087Z",
     "shell.execute_reply": "2021-11-27T07:31:31.510770Z",
     "shell.execute_reply.started": "2021-11-27T07:31:31.507513Z"
    },
    "id": "jjzL7G81Dfh9"
   },
   "outputs": [],
   "source": [
    "from sklearn.metrics import accuracy_score\n"
   ]
  },
  {
   "cell_type": "code",
   "execution_count": 37,
   "metadata": {
    "execution": {
     "iopub.execute_input": "2021-11-27T07:31:31.514255Z",
     "iopub.status.busy": "2021-11-27T07:31:31.513671Z",
     "iopub.status.idle": "2021-11-27T07:31:31.603122Z",
     "shell.execute_reply": "2021-11-27T07:31:31.602181Z",
     "shell.execute_reply.started": "2021-11-27T07:31:31.514219Z"
    },
    "id": "-UjoGiD7Dfh9"
   },
   "outputs": [],
   "source": [
    "eclf.fit(X_train,ext_train)\n",
    "ext_pred = eclf.predict(X_test)"
   ]
  },
  {
   "cell_type": "code",
   "execution_count": 38,
   "metadata": {
    "execution": {
     "iopub.execute_input": "2021-11-27T07:31:31.605005Z",
     "iopub.status.busy": "2021-11-27T07:31:31.604683Z",
     "iopub.status.idle": "2021-11-27T07:31:31.612773Z",
     "shell.execute_reply": "2021-11-27T07:31:31.611355Z",
     "shell.execute_reply.started": "2021-11-27T07:31:31.604976Z"
    },
    "id": "-bNSkX92Dfh9"
   },
   "outputs": [],
   "source": [
    "nclf.fit(X1_train,neu_train)\n",
    "neu_pred = nclf.predict(X1_test)"
   ]
  },
  {
   "cell_type": "code",
   "execution_count": 39,
   "metadata": {
    "id": "Hz6RMihFquy1"
   },
   "outputs": [],
   "source": [
    "aclf.fit(X2_train,agr_train)\n",
    "agr_pred = aclf.predict(X2_test)"
   ]
  },
  {
   "cell_type": "code",
   "execution_count": 40,
   "metadata": {
    "id": "NrZHtUdgrCdL"
   },
   "outputs": [],
   "source": [
    "cclf.fit(X3_train,con_train)\n",
    "con_pred = cclf.predict(X3_test)"
   ]
  },
  {
   "cell_type": "code",
   "execution_count": 41,
   "metadata": {
    "id": "-UQEvtQOrHZH"
   },
   "outputs": [],
   "source": [
    "oclf.fit(X4_train,opn_train)\n",
    "opn_pred = oclf.predict(X4_test)"
   ]
  },
  {
   "cell_type": "code",
   "execution_count": 42,
   "metadata": {
    "id": "J5tYtl2krN7X"
   },
   "outputs": [],
   "source": [
    "def find_accuracy(lst,pst):\n",
    "  err=0\n",
    "  sum=0\n",
    "  for i in range(5):\n",
    "    err+=(pst[i] - lst[i])**2\n",
    "    sum+=pst[i]\n",
    "  print(err/pst)\n"
   ]
  },
  {
   "cell_type": "code",
   "execution_count": 43,
   "metadata": {
    "id": "_jOk8eTta8Yl"
   },
   "outputs": [],
   "source": [
    "#4\n",
    "text = \"Many wishes of my life haven't been fulfilled. This makes me irritated. I feel like my life has been filled with diasspointments.\"\n",
    "text = text.lower()\n",
    "text = remove_special_chars(text)\n",
    "val = cv.transform([text])\n",
    "a = eclf.predict(val)\n",
    "b = nclf.predict(val)\n",
    "c = aclf.predict(val)\n",
    "d = cclf.predict(val)\n",
    "e = oclf.predict(val)"
   ]
  },
  {
   "cell_type": "code",
   "execution_count": 44,
   "metadata": {
    "colab": {
     "base_uri": "https://localhost:8080/"
    },
    "id": "_7jInDfGcuF1",
    "outputId": "19149617-d411-4ea0-9c7c-0f7f0b1076bb"
   },
   "outputs": [
    {
     "name": "stdout",
     "output_type": "stream",
     "text": [
      "Extroversion : No\n",
      "Neuroticism : Yes\n",
      "Agreeableness : Yes\n",
      "Conscientiousness : No\n",
      "Openness : Yes\n"
     ]
    }
   ],
   "source": [
    "qualities = ['Extroversion','Neuroticism','Agreeableness','Conscientiousness','Openness']\n",
    "values = [a,b,c,d,e]\n",
    "for i in range(5):\n",
    "  if(values[i][0]==0):\n",
    "    print(qualities[i],': No')\n",
    "  else:\n",
    "    print(qualities[i],': Yes')"
   ]
  },
  {
   "cell_type": "code",
   "execution_count": 45,
   "metadata": {
    "colab": {
     "base_uri": "https://localhost:8080/",
     "height": 206
    },
    "id": "CWw5TOlOdwGz",
    "outputId": "7b44923e-d7a1-4015-c242-8a921f9e7300"
   },
   "outputs": [
    {
     "data": {
      "text/html": [
       "<div>\n",
       "<style scoped>\n",
       "    .dataframe tbody tr th:only-of-type {\n",
       "        vertical-align: middle;\n",
       "    }\n",
       "\n",
       "    .dataframe tbody tr th {\n",
       "        vertical-align: top;\n",
       "    }\n",
       "\n",
       "    .dataframe thead th {\n",
       "        text-align: right;\n",
       "    }\n",
       "</style>\n",
       "<table border=\"1\" class=\"dataframe\">\n",
       "  <thead>\n",
       "    <tr style=\"text-align: right;\">\n",
       "      <th></th>\n",
       "      <th>text</th>\n",
       "      <th>ext</th>\n",
       "      <th>neu</th>\n",
       "      <th>agr</th>\n",
       "      <th>con</th>\n",
       "      <th>opn</th>\n",
       "    </tr>\n",
       "  </thead>\n",
       "  <tbody>\n",
       "    <tr>\n",
       "      <th>0</th>\n",
       "      <td>well right now i just woke up from a midday na...</td>\n",
       "      <td>0</td>\n",
       "      <td>1</td>\n",
       "      <td>1</td>\n",
       "      <td>0</td>\n",
       "      <td>1</td>\n",
       "    </tr>\n",
       "    <tr>\n",
       "      <th>1</th>\n",
       "      <td>well here we go with the stream of consciousne...</td>\n",
       "      <td>0</td>\n",
       "      <td>0</td>\n",
       "      <td>1</td>\n",
       "      <td>0</td>\n",
       "      <td>0</td>\n",
       "    </tr>\n",
       "    <tr>\n",
       "      <th>2</th>\n",
       "      <td>an open keyboard and buttons to push the thing...</td>\n",
       "      <td>0</td>\n",
       "      <td>1</td>\n",
       "      <td>0</td>\n",
       "      <td>1</td>\n",
       "      <td>1</td>\n",
       "    </tr>\n",
       "    <tr>\n",
       "      <th>3</th>\n",
       "      <td>i cant believe it  its really happening  my pu...</td>\n",
       "      <td>1</td>\n",
       "      <td>0</td>\n",
       "      <td>1</td>\n",
       "      <td>1</td>\n",
       "      <td>0</td>\n",
       "    </tr>\n",
       "    <tr>\n",
       "      <th>4</th>\n",
       "      <td>well here i go with the good old stream of con...</td>\n",
       "      <td>1</td>\n",
       "      <td>0</td>\n",
       "      <td>1</td>\n",
       "      <td>0</td>\n",
       "      <td>1</td>\n",
       "    </tr>\n",
       "  </tbody>\n",
       "</table>\n",
       "</div>"
      ],
      "text/plain": [
       "                                                text  ext  neu  agr  con  opn\n",
       "0  well right now i just woke up from a midday na...    0    1    1    0    1\n",
       "1  well here we go with the stream of consciousne...    0    0    1    0    0\n",
       "2  an open keyboard and buttons to push the thing...    0    1    0    1    1\n",
       "3  i cant believe it  its really happening  my pu...    1    0    1    1    0\n",
       "4  well here i go with the good old stream of con...    1    0    1    0    1"
      ]
     },
     "execution_count": 45,
     "metadata": {},
     "output_type": "execute_result"
    }
   ],
   "source": [
    "df.head(5)"
   ]
  },
  {
   "cell_type": "code",
   "execution_count": 46,
   "metadata": {
    "colab": {
     "base_uri": "https://localhost:8080/"
    },
    "id": "R-yThgC4e1d3",
    "outputId": "99537bb9-b0d5-4292-daad-b768e665493a"
   },
   "outputs": [
    {
     "data": {
      "text/plain": [
       "0.5425101214574899"
      ]
     },
     "execution_count": 46,
     "metadata": {},
     "output_type": "execute_result"
    }
   ],
   "source": [
    "accuracy_score(ext_test,ext_pred)"
   ]
  },
  {
   "cell_type": "code",
   "execution_count": 47,
   "metadata": {
    "colab": {
     "base_uri": "https://localhost:8080/"
    },
    "id": "NEbW8ZaAGmKL",
    "outputId": "6a7b7c13-f0fb-4403-c5d9-3b39898ee6f0"
   },
   "outputs": [
    {
     "data": {
      "text/plain": [
       "0.5519568151147098"
      ]
     },
     "execution_count": 47,
     "metadata": {},
     "output_type": "execute_result"
    }
   ],
   "source": [
    "accuracy_score(neu_test,neu_pred)"
   ]
  },
  {
   "cell_type": "code",
   "execution_count": 48,
   "metadata": {
    "colab": {
     "base_uri": "https://localhost:8080/"
    },
    "id": "e6syru5SGuQJ",
    "outputId": "613253c6-da22-4096-b270-02563ebf10e3"
   },
   "outputs": [
    {
     "data": {
      "text/plain": [
       "0.5654520917678812"
      ]
     },
     "execution_count": 48,
     "metadata": {},
     "output_type": "execute_result"
    }
   ],
   "source": [
    "accuracy_score(agr_test,agr_pred)"
   ]
  },
  {
   "cell_type": "code",
   "execution_count": 49,
   "metadata": {
    "colab": {
     "base_uri": "https://localhost:8080/"
    },
    "id": "sggj2VQDGyfQ",
    "outputId": "9de6f44c-65b0-4b0e-a073-5b014d6b1524"
   },
   "outputs": [
    {
     "data": {
      "text/plain": [
       "0.5519568151147098"
      ]
     },
     "execution_count": 49,
     "metadata": {},
     "output_type": "execute_result"
    }
   ],
   "source": [
    "accuracy_score(con_test,con_pred)"
   ]
  },
  {
   "cell_type": "code",
   "execution_count": 50,
   "metadata": {
    "colab": {
     "base_uri": "https://localhost:8080/"
    },
    "id": "CO-ZKViOG1xO",
    "outputId": "35f11b11-3a29-4976-b1bd-400f710e7bc2"
   },
   "outputs": [
    {
     "data": {
      "text/plain": [
       "0.6423751686909581"
      ]
     },
     "execution_count": 50,
     "metadata": {},
     "output_type": "execute_result"
    }
   ],
   "source": [
    "accuracy_score(opn_test,opn_pred)"
   ]
  },
  {
   "cell_type": "code",
   "execution_count": null,
   "metadata": {
    "id": "oeRhtbIM90XW"
   },
   "outputs": [],
   "source": []
  }
 ],
 "metadata": {
  "accelerator": "TPU",
  "colab": {
   "collapsed_sections": [],
   "name": "Personality Detection.pynb",
   "provenance": []
  },
  "kernelspec": {
   "display_name": "Python 3",
   "language": "python",
   "name": "python3"
  },
  "language_info": {
   "codemirror_mode": {
    "name": "ipython",
    "version": 3
   },
   "file_extension": ".py",
   "mimetype": "text/x-python",
   "name": "python",
   "nbconvert_exporter": "python",
   "pygments_lexer": "ipython3",
   "version": "3.8.3"
  }
 },
 "nbformat": 4,
 "nbformat_minor": 1
}
